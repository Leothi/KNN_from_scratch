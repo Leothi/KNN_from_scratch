{
 "cells": [
  {
   "cell_type": "markdown",
   "metadata": {},
   "source": [
    "# KNN - K vizinhos mais próximos\n",
    "### Objetivo geral: fazer um algoritmo KNN em Python sem bibliotecas de *Machine Learning* ou de manipulação de dados.\n",
    "### Objetivos específicos: \n",
    "1 - Ler o arquivo csv;\n",
    "2 - Fazer o pré-processamento;\n",
    "3 - Criar algoritmo KNN;\n",
    "4 - Criar algoritmo de geração de bases;\n",
    "5 - Orientar o código a objetos; \n",
    "6 - Validar com base de teste e avaliar resultados.\n",
    "#### Autor: Leonardo de Holanda Bonifácio\n",
    "--------"
   ]
  },
  {
   "cell_type": "markdown",
   "metadata": {},
   "source": [
    "## 1. Abertura, leitura e fechamento do arquivo csv\n",
    "O *dataset* utilizado no trabalho serve para classificar a espécie de uma planta de acordo com suas características. A base contém 150 registros, com 4 parâmetros e 3 classes."
   ]
  },
  {
   "cell_type": "code",
   "execution_count": 1,
   "metadata": {},
   "outputs": [],
   "source": [
    "iris_csv = open('D:\\Documents\\Dropbox\\Estudos\\Jupyter\\Treinamento\\Trabalho KNN\\iris.csv','r')"
   ]
  },
  {
   "cell_type": "markdown",
   "metadata": {},
   "source": [
    "Cria uma Lista que em cada linha do arquivo é uma String, incluindo o cabeçalho:"
   ]
  },
  {
   "cell_type": "code",
   "execution_count": 2,
   "metadata": {},
   "outputs": [
    {
     "data": {
      "text/plain": [
       "['sepal length,sepal width,petal length,petal width,class\\n',\n",
       " '5.1,3.5,1.4,0.2,Iris-setosa\\n',\n",
       " '4.9,3.0,1.4,0.2,Iris-setosa\\n',\n",
       " '4.7,3.2,1.3,0.2,Iris-setosa\\n',\n",
       " '4.6,3.1,1.5,0.2,Iris-setosa\\n',\n",
       " '5.0,3.6,1.4,0.2,Iris-setosa\\n',\n",
       " '5.4,3.9,1.7,0.4,Iris-setosa\\n',\n",
       " '4.6,3.4,1.4,0.3,Iris-setosa\\n',\n",
       " '5.0,3.4,1.5,0.2,Iris-setosa\\n',\n",
       " '4.4,2.9,1.4,0.2,Iris-setosa\\n',\n",
       " '4.9,3.1,1.5,0.1,Iris-setosa\\n',\n",
       " '5.4,3.7,1.5,0.2,Iris-setosa\\n',\n",
       " '4.8,3.4,1.6,0.2,Iris-setosa\\n',\n",
       " '4.8,3.0,1.4,0.1,Iris-setosa\\n',\n",
       " '4.3,3.0,1.1,0.1,Iris-setosa\\n',\n",
       " '5.8,4.0,1.2,0.2,Iris-setosa\\n',\n",
       " '5.7,4.4,1.5,0.4,Iris-setosa\\n',\n",
       " '5.4,3.9,1.3,0.4,Iris-setosa\\n',\n",
       " '5.1,3.5,1.4,0.3,Iris-setosa\\n',\n",
       " '5.7,3.8,1.7,0.3,Iris-setosa\\n',\n",
       " '5.1,3.8,1.5,0.3,Iris-setosa\\n',\n",
       " '5.4,3.4,1.7,0.2,Iris-setosa\\n',\n",
       " '5.1,3.7,1.5,0.4,Iris-setosa\\n',\n",
       " '4.6,3.6,1.0,0.2,Iris-setosa\\n',\n",
       " '5.1,3.3,1.7,0.5,Iris-setosa\\n',\n",
       " '4.8,3.4,1.9,0.2,Iris-setosa\\n',\n",
       " '5.0,3.0,1.6,0.2,Iris-setosa\\n',\n",
       " '5.0,3.4,1.6,0.4,Iris-setosa\\n',\n",
       " '5.2,3.5,1.5,0.2,Iris-setosa\\n',\n",
       " '5.2,3.4,1.4,0.2,Iris-setosa\\n',\n",
       " '4.7,3.2,1.6,0.2,Iris-setosa\\n',\n",
       " '4.8,3.1,1.6,0.2,Iris-setosa\\n',\n",
       " '5.4,3.4,1.5,0.4,Iris-setosa\\n',\n",
       " '5.2,4.1,1.5,0.1,Iris-setosa\\n',\n",
       " '5.5,4.2,1.4,0.2,Iris-setosa\\n',\n",
       " '4.9,3.1,1.5,0.1,Iris-setosa\\n',\n",
       " '5.0,3.2,1.2,0.2,Iris-setosa\\n',\n",
       " '5.5,3.5,1.3,0.2,Iris-setosa\\n',\n",
       " '4.9,3.1,1.5,0.1,Iris-setosa\\n',\n",
       " '4.4,3.0,1.3,0.2,Iris-setosa\\n',\n",
       " '5.1,3.4,1.5,0.2,Iris-setosa\\n',\n",
       " '5.0,3.5,1.3,0.3,Iris-setosa\\n',\n",
       " '4.5,2.3,1.3,0.3,Iris-setosa\\n',\n",
       " '4.4,3.2,1.3,0.2,Iris-setosa\\n',\n",
       " '5.0,3.5,1.6,0.6,Iris-setosa\\n',\n",
       " '5.1,3.8,1.9,0.4,Iris-setosa\\n',\n",
       " '4.8,3.0,1.4,0.3,Iris-setosa\\n',\n",
       " '5.1,3.8,1.6,0.2,Iris-setosa\\n',\n",
       " '4.6,3.2,1.4,0.2,Iris-setosa\\n',\n",
       " '5.3,3.7,1.5,0.2,Iris-setosa\\n',\n",
       " '5.0,3.3,1.4,0.2,Iris-setosa\\n',\n",
       " '7.0,3.2,4.7,1.4,Iris-versicolor\\n',\n",
       " '6.4,3.2,4.5,1.5,Iris-versicolor\\n',\n",
       " '6.9,3.1,4.9,1.5,Iris-versicolor\\n',\n",
       " '5.5,2.3,4.0,1.3,Iris-versicolor\\n',\n",
       " '6.5,2.8,4.6,1.5,Iris-versicolor\\n',\n",
       " '5.7,2.8,4.5,1.3,Iris-versicolor\\n',\n",
       " '6.3,3.3,4.7,1.6,Iris-versicolor\\n',\n",
       " '4.9,2.4,3.3,1.0,Iris-versicolor\\n',\n",
       " '6.6,2.9,4.6,1.3,Iris-versicolor\\n',\n",
       " '5.2,2.7,3.9,1.4,Iris-versicolor\\n',\n",
       " '5.0,2.0,3.5,1.0,Iris-versicolor\\n',\n",
       " '5.9,3.0,4.2,1.5,Iris-versicolor\\n',\n",
       " '6.0,2.2,4.0,1.0,Iris-versicolor\\n',\n",
       " '6.1,2.9,4.7,1.4,Iris-versicolor\\n',\n",
       " '5.6,2.9,3.6,1.3,Iris-versicolor\\n',\n",
       " '6.7,3.1,4.4,1.4,Iris-versicolor\\n',\n",
       " '5.6,3.0,4.5,1.5,Iris-versicolor\\n',\n",
       " '5.8,2.7,4.1,1.0,Iris-versicolor\\n',\n",
       " '6.2,2.2,4.5,1.5,Iris-versicolor\\n',\n",
       " '5.6,2.5,3.9,1.1,Iris-versicolor\\n',\n",
       " '5.9,3.2,4.8,1.8,Iris-versicolor\\n',\n",
       " '6.1,2.8,4.0,1.3,Iris-versicolor\\n',\n",
       " '6.3,2.5,4.9,1.5,Iris-versicolor\\n',\n",
       " '6.1,2.8,4.7,1.2,Iris-versicolor\\n',\n",
       " '6.4,2.9,4.3,1.3,Iris-versicolor\\n',\n",
       " '6.6,3.0,4.4,1.4,Iris-versicolor\\n',\n",
       " '6.8,2.8,4.8,1.4,Iris-versicolor\\n',\n",
       " '6.7,3.0,5.0,1.7,Iris-versicolor\\n',\n",
       " '6.0,2.9,4.5,1.5,Iris-versicolor\\n',\n",
       " '5.7,2.6,3.5,1.0,Iris-versicolor\\n',\n",
       " '5.5,2.4,3.8,1.1,Iris-versicolor\\n',\n",
       " '5.5,2.4,3.7,1.0,Iris-versicolor\\n',\n",
       " '5.8,2.7,3.9,1.2,Iris-versicolor\\n',\n",
       " '6.0,2.7,5.1,1.6,Iris-versicolor\\n',\n",
       " '5.4,3.0,4.5,1.5,Iris-versicolor\\n',\n",
       " '6.0,3.4,4.5,1.6,Iris-versicolor\\n',\n",
       " '6.7,3.1,4.7,1.5,Iris-versicolor\\n',\n",
       " '6.3,2.3,4.4,1.3,Iris-versicolor\\n',\n",
       " '5.6,3.0,4.1,1.3,Iris-versicolor\\n',\n",
       " '5.5,2.5,4.0,1.3,Iris-versicolor\\n',\n",
       " '5.5,2.6,4.4,1.2,Iris-versicolor\\n',\n",
       " '6.1,3.0,4.6,1.4,Iris-versicolor\\n',\n",
       " '5.8,2.6,4.0,1.2,Iris-versicolor\\n',\n",
       " '5.0,2.3,3.3,1.0,Iris-versicolor\\n',\n",
       " '5.6,2.7,4.2,1.3,Iris-versicolor\\n',\n",
       " '5.7,3.0,4.2,1.2,Iris-versicolor\\n',\n",
       " '5.7,2.9,4.2,1.3,Iris-versicolor\\n',\n",
       " '6.2,2.9,4.3,1.3,Iris-versicolor\\n',\n",
       " '5.1,2.5,3.0,1.1,Iris-versicolor\\n',\n",
       " '5.7,2.8,4.1,1.3,Iris-versicolor\\n',\n",
       " '6.3,3.3,6.0,2.5,Iris-virginica\\n',\n",
       " '5.8,2.7,5.1,1.9,Iris-virginica\\n',\n",
       " '7.1,3.0,5.9,2.1,Iris-virginica\\n',\n",
       " '6.3,2.9,5.6,1.8,Iris-virginica\\n',\n",
       " '6.5,3.0,5.8,2.2,Iris-virginica\\n',\n",
       " '7.6,3.0,6.6,2.1,Iris-virginica\\n',\n",
       " '4.9,2.5,4.5,1.7,Iris-virginica\\n',\n",
       " '7.3,2.9,6.3,1.8,Iris-virginica\\n',\n",
       " '6.7,2.5,5.8,1.8,Iris-virginica\\n',\n",
       " '7.2,3.6,6.1,2.5,Iris-virginica\\n',\n",
       " '6.5,3.2,5.1,2.0,Iris-virginica\\n',\n",
       " '6.4,2.7,5.3,1.9,Iris-virginica\\n',\n",
       " '6.8,3.0,5.5,2.1,Iris-virginica\\n',\n",
       " '5.7,2.5,5.0,2.0,Iris-virginica\\n',\n",
       " '5.8,2.8,5.1,2.4,Iris-virginica\\n',\n",
       " '6.4,3.2,5.3,2.3,Iris-virginica\\n',\n",
       " '6.5,3.0,5.5,1.8,Iris-virginica\\n',\n",
       " '7.7,3.8,6.7,2.2,Iris-virginica\\n',\n",
       " '7.7,2.6,6.9,2.3,Iris-virginica\\n',\n",
       " '6.0,2.2,5.0,1.5,Iris-virginica\\n',\n",
       " '6.9,3.2,5.7,2.3,Iris-virginica\\n',\n",
       " '5.6,2.8,4.9,2.0,Iris-virginica\\n',\n",
       " '7.7,2.8,6.7,2.0,Iris-virginica\\n',\n",
       " '6.3,2.7,4.9,1.8,Iris-virginica\\n',\n",
       " '6.7,3.3,5.7,2.1,Iris-virginica\\n',\n",
       " '7.2,3.2,6.0,1.8,Iris-virginica\\n',\n",
       " '6.2,2.8,4.8,1.8,Iris-virginica\\n',\n",
       " '6.1,3.0,4.9,1.8,Iris-virginica\\n',\n",
       " '6.4,2.8,5.6,2.1,Iris-virginica\\n',\n",
       " '7.2,3.0,5.8,1.6,Iris-virginica\\n',\n",
       " '7.4,2.8,6.1,1.9,Iris-virginica\\n',\n",
       " '7.9,3.8,6.4,2.0,Iris-virginica\\n',\n",
       " '6.4,2.8,5.6,2.2,Iris-virginica\\n',\n",
       " '6.3,2.8,5.1,1.5,Iris-virginica\\n',\n",
       " '6.1,2.6,5.6,1.4,Iris-virginica\\n',\n",
       " '7.7,3.0,6.1,2.3,Iris-virginica\\n',\n",
       " '6.3,3.4,5.6,2.4,Iris-virginica\\n',\n",
       " '6.4,3.1,5.5,1.8,Iris-virginica\\n',\n",
       " '6.0,3.0,4.8,1.8,Iris-virginica\\n',\n",
       " '6.9,3.1,5.4,2.1,Iris-virginica\\n',\n",
       " '6.7,3.1,5.6,2.4,Iris-virginica\\n',\n",
       " '6.9,3.1,5.1,2.3,Iris-virginica\\n',\n",
       " '5.8,2.7,5.1,1.9,Iris-virginica\\n',\n",
       " '6.8,3.2,5.9,2.3,Iris-virginica\\n',\n",
       " '6.7,3.3,5.7,2.5,Iris-virginica\\n',\n",
       " '6.7,3.0,5.2,2.3,Iris-virginica\\n',\n",
       " '6.3,2.5,5.0,1.9,Iris-virginica\\n',\n",
       " '6.5,3.0,5.2,2.0,Iris-virginica\\n',\n",
       " '6.2,3.4,5.4,2.3,Iris-virginica\\n',\n",
       " '5.9,3.0,5.1,1.8,Iris-virginica\\n']"
      ]
     },
     "execution_count": 2,
     "metadata": {},
     "output_type": "execute_result"
    }
   ],
   "source": [
    "iris_csv.readlines()"
   ]
  },
  {
   "cell_type": "markdown",
   "metadata": {},
   "source": [
    "Retorna ao início da Lista:"
   ]
  },
  {
   "cell_type": "code",
   "execution_count": 3,
   "metadata": {},
   "outputs": [
    {
     "data": {
      "text/plain": [
       "0"
      ]
     },
     "execution_count": 3,
     "metadata": {},
     "output_type": "execute_result"
    }
   ],
   "source": [
    "iris_csv.seek(0) "
   ]
  },
  {
   "cell_type": "markdown",
   "metadata": {},
   "source": [
    "Atribuindo a Lista para a variável dataset:"
   ]
  },
  {
   "cell_type": "code",
   "execution_count": 4,
   "metadata": {},
   "outputs": [
    {
     "data": {
      "text/plain": [
       "['sepal length,sepal width,petal length,petal width,class\\n',\n",
       " '5.1,3.5,1.4,0.2,Iris-setosa\\n',\n",
       " '4.9,3.0,1.4,0.2,Iris-setosa\\n',\n",
       " '4.7,3.2,1.3,0.2,Iris-setosa\\n',\n",
       " '4.6,3.1,1.5,0.2,Iris-setosa\\n',\n",
       " '5.0,3.6,1.4,0.2,Iris-setosa\\n',\n",
       " '5.4,3.9,1.7,0.4,Iris-setosa\\n',\n",
       " '4.6,3.4,1.4,0.3,Iris-setosa\\n',\n",
       " '5.0,3.4,1.5,0.2,Iris-setosa\\n',\n",
       " '4.4,2.9,1.4,0.2,Iris-setosa\\n',\n",
       " '4.9,3.1,1.5,0.1,Iris-setosa\\n',\n",
       " '5.4,3.7,1.5,0.2,Iris-setosa\\n',\n",
       " '4.8,3.4,1.6,0.2,Iris-setosa\\n',\n",
       " '4.8,3.0,1.4,0.1,Iris-setosa\\n',\n",
       " '4.3,3.0,1.1,0.1,Iris-setosa\\n',\n",
       " '5.8,4.0,1.2,0.2,Iris-setosa\\n',\n",
       " '5.7,4.4,1.5,0.4,Iris-setosa\\n',\n",
       " '5.4,3.9,1.3,0.4,Iris-setosa\\n',\n",
       " '5.1,3.5,1.4,0.3,Iris-setosa\\n',\n",
       " '5.7,3.8,1.7,0.3,Iris-setosa\\n',\n",
       " '5.1,3.8,1.5,0.3,Iris-setosa\\n',\n",
       " '5.4,3.4,1.7,0.2,Iris-setosa\\n',\n",
       " '5.1,3.7,1.5,0.4,Iris-setosa\\n',\n",
       " '4.6,3.6,1.0,0.2,Iris-setosa\\n',\n",
       " '5.1,3.3,1.7,0.5,Iris-setosa\\n',\n",
       " '4.8,3.4,1.9,0.2,Iris-setosa\\n',\n",
       " '5.0,3.0,1.6,0.2,Iris-setosa\\n',\n",
       " '5.0,3.4,1.6,0.4,Iris-setosa\\n',\n",
       " '5.2,3.5,1.5,0.2,Iris-setosa\\n',\n",
       " '5.2,3.4,1.4,0.2,Iris-setosa\\n',\n",
       " '4.7,3.2,1.6,0.2,Iris-setosa\\n',\n",
       " '4.8,3.1,1.6,0.2,Iris-setosa\\n',\n",
       " '5.4,3.4,1.5,0.4,Iris-setosa\\n',\n",
       " '5.2,4.1,1.5,0.1,Iris-setosa\\n',\n",
       " '5.5,4.2,1.4,0.2,Iris-setosa\\n',\n",
       " '4.9,3.1,1.5,0.1,Iris-setosa\\n',\n",
       " '5.0,3.2,1.2,0.2,Iris-setosa\\n',\n",
       " '5.5,3.5,1.3,0.2,Iris-setosa\\n',\n",
       " '4.9,3.1,1.5,0.1,Iris-setosa\\n',\n",
       " '4.4,3.0,1.3,0.2,Iris-setosa\\n',\n",
       " '5.1,3.4,1.5,0.2,Iris-setosa\\n',\n",
       " '5.0,3.5,1.3,0.3,Iris-setosa\\n',\n",
       " '4.5,2.3,1.3,0.3,Iris-setosa\\n',\n",
       " '4.4,3.2,1.3,0.2,Iris-setosa\\n',\n",
       " '5.0,3.5,1.6,0.6,Iris-setosa\\n',\n",
       " '5.1,3.8,1.9,0.4,Iris-setosa\\n',\n",
       " '4.8,3.0,1.4,0.3,Iris-setosa\\n',\n",
       " '5.1,3.8,1.6,0.2,Iris-setosa\\n',\n",
       " '4.6,3.2,1.4,0.2,Iris-setosa\\n',\n",
       " '5.3,3.7,1.5,0.2,Iris-setosa\\n',\n",
       " '5.0,3.3,1.4,0.2,Iris-setosa\\n',\n",
       " '7.0,3.2,4.7,1.4,Iris-versicolor\\n',\n",
       " '6.4,3.2,4.5,1.5,Iris-versicolor\\n',\n",
       " '6.9,3.1,4.9,1.5,Iris-versicolor\\n',\n",
       " '5.5,2.3,4.0,1.3,Iris-versicolor\\n',\n",
       " '6.5,2.8,4.6,1.5,Iris-versicolor\\n',\n",
       " '5.7,2.8,4.5,1.3,Iris-versicolor\\n',\n",
       " '6.3,3.3,4.7,1.6,Iris-versicolor\\n',\n",
       " '4.9,2.4,3.3,1.0,Iris-versicolor\\n',\n",
       " '6.6,2.9,4.6,1.3,Iris-versicolor\\n',\n",
       " '5.2,2.7,3.9,1.4,Iris-versicolor\\n',\n",
       " '5.0,2.0,3.5,1.0,Iris-versicolor\\n',\n",
       " '5.9,3.0,4.2,1.5,Iris-versicolor\\n',\n",
       " '6.0,2.2,4.0,1.0,Iris-versicolor\\n',\n",
       " '6.1,2.9,4.7,1.4,Iris-versicolor\\n',\n",
       " '5.6,2.9,3.6,1.3,Iris-versicolor\\n',\n",
       " '6.7,3.1,4.4,1.4,Iris-versicolor\\n',\n",
       " '5.6,3.0,4.5,1.5,Iris-versicolor\\n',\n",
       " '5.8,2.7,4.1,1.0,Iris-versicolor\\n',\n",
       " '6.2,2.2,4.5,1.5,Iris-versicolor\\n',\n",
       " '5.6,2.5,3.9,1.1,Iris-versicolor\\n',\n",
       " '5.9,3.2,4.8,1.8,Iris-versicolor\\n',\n",
       " '6.1,2.8,4.0,1.3,Iris-versicolor\\n',\n",
       " '6.3,2.5,4.9,1.5,Iris-versicolor\\n',\n",
       " '6.1,2.8,4.7,1.2,Iris-versicolor\\n',\n",
       " '6.4,2.9,4.3,1.3,Iris-versicolor\\n',\n",
       " '6.6,3.0,4.4,1.4,Iris-versicolor\\n',\n",
       " '6.8,2.8,4.8,1.4,Iris-versicolor\\n',\n",
       " '6.7,3.0,5.0,1.7,Iris-versicolor\\n',\n",
       " '6.0,2.9,4.5,1.5,Iris-versicolor\\n',\n",
       " '5.7,2.6,3.5,1.0,Iris-versicolor\\n',\n",
       " '5.5,2.4,3.8,1.1,Iris-versicolor\\n',\n",
       " '5.5,2.4,3.7,1.0,Iris-versicolor\\n',\n",
       " '5.8,2.7,3.9,1.2,Iris-versicolor\\n',\n",
       " '6.0,2.7,5.1,1.6,Iris-versicolor\\n',\n",
       " '5.4,3.0,4.5,1.5,Iris-versicolor\\n',\n",
       " '6.0,3.4,4.5,1.6,Iris-versicolor\\n',\n",
       " '6.7,3.1,4.7,1.5,Iris-versicolor\\n',\n",
       " '6.3,2.3,4.4,1.3,Iris-versicolor\\n',\n",
       " '5.6,3.0,4.1,1.3,Iris-versicolor\\n',\n",
       " '5.5,2.5,4.0,1.3,Iris-versicolor\\n',\n",
       " '5.5,2.6,4.4,1.2,Iris-versicolor\\n',\n",
       " '6.1,3.0,4.6,1.4,Iris-versicolor\\n',\n",
       " '5.8,2.6,4.0,1.2,Iris-versicolor\\n',\n",
       " '5.0,2.3,3.3,1.0,Iris-versicolor\\n',\n",
       " '5.6,2.7,4.2,1.3,Iris-versicolor\\n',\n",
       " '5.7,3.0,4.2,1.2,Iris-versicolor\\n',\n",
       " '5.7,2.9,4.2,1.3,Iris-versicolor\\n',\n",
       " '6.2,2.9,4.3,1.3,Iris-versicolor\\n',\n",
       " '5.1,2.5,3.0,1.1,Iris-versicolor\\n',\n",
       " '5.7,2.8,4.1,1.3,Iris-versicolor\\n',\n",
       " '6.3,3.3,6.0,2.5,Iris-virginica\\n',\n",
       " '5.8,2.7,5.1,1.9,Iris-virginica\\n',\n",
       " '7.1,3.0,5.9,2.1,Iris-virginica\\n',\n",
       " '6.3,2.9,5.6,1.8,Iris-virginica\\n',\n",
       " '6.5,3.0,5.8,2.2,Iris-virginica\\n',\n",
       " '7.6,3.0,6.6,2.1,Iris-virginica\\n',\n",
       " '4.9,2.5,4.5,1.7,Iris-virginica\\n',\n",
       " '7.3,2.9,6.3,1.8,Iris-virginica\\n',\n",
       " '6.7,2.5,5.8,1.8,Iris-virginica\\n',\n",
       " '7.2,3.6,6.1,2.5,Iris-virginica\\n',\n",
       " '6.5,3.2,5.1,2.0,Iris-virginica\\n',\n",
       " '6.4,2.7,5.3,1.9,Iris-virginica\\n',\n",
       " '6.8,3.0,5.5,2.1,Iris-virginica\\n',\n",
       " '5.7,2.5,5.0,2.0,Iris-virginica\\n',\n",
       " '5.8,2.8,5.1,2.4,Iris-virginica\\n',\n",
       " '6.4,3.2,5.3,2.3,Iris-virginica\\n',\n",
       " '6.5,3.0,5.5,1.8,Iris-virginica\\n',\n",
       " '7.7,3.8,6.7,2.2,Iris-virginica\\n',\n",
       " '7.7,2.6,6.9,2.3,Iris-virginica\\n',\n",
       " '6.0,2.2,5.0,1.5,Iris-virginica\\n',\n",
       " '6.9,3.2,5.7,2.3,Iris-virginica\\n',\n",
       " '5.6,2.8,4.9,2.0,Iris-virginica\\n',\n",
       " '7.7,2.8,6.7,2.0,Iris-virginica\\n',\n",
       " '6.3,2.7,4.9,1.8,Iris-virginica\\n',\n",
       " '6.7,3.3,5.7,2.1,Iris-virginica\\n',\n",
       " '7.2,3.2,6.0,1.8,Iris-virginica\\n',\n",
       " '6.2,2.8,4.8,1.8,Iris-virginica\\n',\n",
       " '6.1,3.0,4.9,1.8,Iris-virginica\\n',\n",
       " '6.4,2.8,5.6,2.1,Iris-virginica\\n',\n",
       " '7.2,3.0,5.8,1.6,Iris-virginica\\n',\n",
       " '7.4,2.8,6.1,1.9,Iris-virginica\\n',\n",
       " '7.9,3.8,6.4,2.0,Iris-virginica\\n',\n",
       " '6.4,2.8,5.6,2.2,Iris-virginica\\n',\n",
       " '6.3,2.8,5.1,1.5,Iris-virginica\\n',\n",
       " '6.1,2.6,5.6,1.4,Iris-virginica\\n',\n",
       " '7.7,3.0,6.1,2.3,Iris-virginica\\n',\n",
       " '6.3,3.4,5.6,2.4,Iris-virginica\\n',\n",
       " '6.4,3.1,5.5,1.8,Iris-virginica\\n',\n",
       " '6.0,3.0,4.8,1.8,Iris-virginica\\n',\n",
       " '6.9,3.1,5.4,2.1,Iris-virginica\\n',\n",
       " '6.7,3.1,5.6,2.4,Iris-virginica\\n',\n",
       " '6.9,3.1,5.1,2.3,Iris-virginica\\n',\n",
       " '5.8,2.7,5.1,1.9,Iris-virginica\\n',\n",
       " '6.8,3.2,5.9,2.3,Iris-virginica\\n',\n",
       " '6.7,3.3,5.7,2.5,Iris-virginica\\n',\n",
       " '6.7,3.0,5.2,2.3,Iris-virginica\\n',\n",
       " '6.3,2.5,5.0,1.9,Iris-virginica\\n',\n",
       " '6.5,3.0,5.2,2.0,Iris-virginica\\n',\n",
       " '6.2,3.4,5.4,2.3,Iris-virginica\\n',\n",
       " '5.9,3.0,5.1,1.8,Iris-virginica\\n']"
      ]
     },
     "execution_count": 4,
     "metadata": {},
     "output_type": "execute_result"
    }
   ],
   "source": [
    "dataset = iris_csv.readlines() \n",
    "dataset"
   ]
  },
  {
   "cell_type": "code",
   "execution_count": 5,
   "metadata": {},
   "outputs": [],
   "source": [
    "iris_csv.close() # Fechando arquivo para desalocar memória."
   ]
  },
  {
   "cell_type": "markdown",
   "metadata": {},
   "source": [
    "------------"
   ]
  },
  {
   "cell_type": "markdown",
   "metadata": {},
   "source": [
    "## 2. Pré-processamento"
   ]
  },
  {
   "cell_type": "markdown",
   "metadata": {},
   "source": [
    "### 2.1. Separação e tratamento de dados"
   ]
  },
  {
   "cell_type": "markdown",
   "metadata": {},
   "source": [
    "O método *split()* divide uma String grande em uma lista de Strings pequenas de acordo com o caractere passado no argumento."
   ]
  },
  {
   "cell_type": "code",
   "execution_count": 6,
   "metadata": {},
   "outputs": [
    {
     "data": {
      "text/plain": [
       "['5.1', '3.5', '1.4', '0.2', 'Iris-setosa\\n']"
      ]
     },
     "execution_count": 6,
     "metadata": {},
     "output_type": "execute_result"
    }
   ],
   "source": [
    "dataset[1].split(',')"
   ]
  },
  {
   "cell_type": "markdown",
   "metadata": {},
   "source": [
    "Para melhor visualização e organização, é preferível retirar o \"\\n\" de todo o dataset. Além disso, o método *split()* separa cada linha do mesmo."
   ]
  },
  {
   "cell_type": "code",
   "execution_count": 7,
   "metadata": {},
   "outputs": [],
   "source": [
    "dataset_final = []       \n",
    "for linha in dataset:\n",
    "    dataset_lista = linha.split(',')\n",
    "    dataset_lista[-1] = dataset_lista[-1].replace('\\n','')\n",
    "    dataset_final.append(dataset_lista)"
   ]
  },
  {
   "cell_type": "markdown",
   "metadata": {},
   "source": [
    "Dessa forma, o dataset se divide em cada linha, já retirado o \"\\n\" de todos os registros."
   ]
  },
  {
   "cell_type": "code",
   "execution_count": 8,
   "metadata": {},
   "outputs": [
    {
     "data": {
      "text/plain": [
       "[['sepal length', 'sepal width', 'petal length', 'petal width', 'class'],\n",
       " ['5.1', '3.5', '1.4', '0.2', 'Iris-setosa'],\n",
       " ['4.9', '3.0', '1.4', '0.2', 'Iris-setosa'],\n",
       " ['4.7', '3.2', '1.3', '0.2', 'Iris-setosa'],\n",
       " ['4.6', '3.1', '1.5', '0.2', 'Iris-setosa'],\n",
       " ['5.0', '3.6', '1.4', '0.2', 'Iris-setosa'],\n",
       " ['5.4', '3.9', '1.7', '0.4', 'Iris-setosa'],\n",
       " ['4.6', '3.4', '1.4', '0.3', 'Iris-setosa'],\n",
       " ['5.0', '3.4', '1.5', '0.2', 'Iris-setosa'],\n",
       " ['4.4', '2.9', '1.4', '0.2', 'Iris-setosa'],\n",
       " ['4.9', '3.1', '1.5', '0.1', 'Iris-setosa'],\n",
       " ['5.4', '3.7', '1.5', '0.2', 'Iris-setosa'],\n",
       " ['4.8', '3.4', '1.6', '0.2', 'Iris-setosa'],\n",
       " ['4.8', '3.0', '1.4', '0.1', 'Iris-setosa'],\n",
       " ['4.3', '3.0', '1.1', '0.1', 'Iris-setosa'],\n",
       " ['5.8', '4.0', '1.2', '0.2', 'Iris-setosa'],\n",
       " ['5.7', '4.4', '1.5', '0.4', 'Iris-setosa'],\n",
       " ['5.4', '3.9', '1.3', '0.4', 'Iris-setosa'],\n",
       " ['5.1', '3.5', '1.4', '0.3', 'Iris-setosa'],\n",
       " ['5.7', '3.8', '1.7', '0.3', 'Iris-setosa'],\n",
       " ['5.1', '3.8', '1.5', '0.3', 'Iris-setosa'],\n",
       " ['5.4', '3.4', '1.7', '0.2', 'Iris-setosa'],\n",
       " ['5.1', '3.7', '1.5', '0.4', 'Iris-setosa'],\n",
       " ['4.6', '3.6', '1.0', '0.2', 'Iris-setosa'],\n",
       " ['5.1', '3.3', '1.7', '0.5', 'Iris-setosa'],\n",
       " ['4.8', '3.4', '1.9', '0.2', 'Iris-setosa'],\n",
       " ['5.0', '3.0', '1.6', '0.2', 'Iris-setosa'],\n",
       " ['5.0', '3.4', '1.6', '0.4', 'Iris-setosa'],\n",
       " ['5.2', '3.5', '1.5', '0.2', 'Iris-setosa'],\n",
       " ['5.2', '3.4', '1.4', '0.2', 'Iris-setosa'],\n",
       " ['4.7', '3.2', '1.6', '0.2', 'Iris-setosa'],\n",
       " ['4.8', '3.1', '1.6', '0.2', 'Iris-setosa'],\n",
       " ['5.4', '3.4', '1.5', '0.4', 'Iris-setosa'],\n",
       " ['5.2', '4.1', '1.5', '0.1', 'Iris-setosa'],\n",
       " ['5.5', '4.2', '1.4', '0.2', 'Iris-setosa'],\n",
       " ['4.9', '3.1', '1.5', '0.1', 'Iris-setosa'],\n",
       " ['5.0', '3.2', '1.2', '0.2', 'Iris-setosa'],\n",
       " ['5.5', '3.5', '1.3', '0.2', 'Iris-setosa'],\n",
       " ['4.9', '3.1', '1.5', '0.1', 'Iris-setosa'],\n",
       " ['4.4', '3.0', '1.3', '0.2', 'Iris-setosa'],\n",
       " ['5.1', '3.4', '1.5', '0.2', 'Iris-setosa'],\n",
       " ['5.0', '3.5', '1.3', '0.3', 'Iris-setosa'],\n",
       " ['4.5', '2.3', '1.3', '0.3', 'Iris-setosa'],\n",
       " ['4.4', '3.2', '1.3', '0.2', 'Iris-setosa'],\n",
       " ['5.0', '3.5', '1.6', '0.6', 'Iris-setosa'],\n",
       " ['5.1', '3.8', '1.9', '0.4', 'Iris-setosa'],\n",
       " ['4.8', '3.0', '1.4', '0.3', 'Iris-setosa'],\n",
       " ['5.1', '3.8', '1.6', '0.2', 'Iris-setosa'],\n",
       " ['4.6', '3.2', '1.4', '0.2', 'Iris-setosa'],\n",
       " ['5.3', '3.7', '1.5', '0.2', 'Iris-setosa'],\n",
       " ['5.0', '3.3', '1.4', '0.2', 'Iris-setosa'],\n",
       " ['7.0', '3.2', '4.7', '1.4', 'Iris-versicolor'],\n",
       " ['6.4', '3.2', '4.5', '1.5', 'Iris-versicolor'],\n",
       " ['6.9', '3.1', '4.9', '1.5', 'Iris-versicolor'],\n",
       " ['5.5', '2.3', '4.0', '1.3', 'Iris-versicolor'],\n",
       " ['6.5', '2.8', '4.6', '1.5', 'Iris-versicolor'],\n",
       " ['5.7', '2.8', '4.5', '1.3', 'Iris-versicolor'],\n",
       " ['6.3', '3.3', '4.7', '1.6', 'Iris-versicolor'],\n",
       " ['4.9', '2.4', '3.3', '1.0', 'Iris-versicolor'],\n",
       " ['6.6', '2.9', '4.6', '1.3', 'Iris-versicolor'],\n",
       " ['5.2', '2.7', '3.9', '1.4', 'Iris-versicolor'],\n",
       " ['5.0', '2.0', '3.5', '1.0', 'Iris-versicolor'],\n",
       " ['5.9', '3.0', '4.2', '1.5', 'Iris-versicolor'],\n",
       " ['6.0', '2.2', '4.0', '1.0', 'Iris-versicolor'],\n",
       " ['6.1', '2.9', '4.7', '1.4', 'Iris-versicolor'],\n",
       " ['5.6', '2.9', '3.6', '1.3', 'Iris-versicolor'],\n",
       " ['6.7', '3.1', '4.4', '1.4', 'Iris-versicolor'],\n",
       " ['5.6', '3.0', '4.5', '1.5', 'Iris-versicolor'],\n",
       " ['5.8', '2.7', '4.1', '1.0', 'Iris-versicolor'],\n",
       " ['6.2', '2.2', '4.5', '1.5', 'Iris-versicolor'],\n",
       " ['5.6', '2.5', '3.9', '1.1', 'Iris-versicolor'],\n",
       " ['5.9', '3.2', '4.8', '1.8', 'Iris-versicolor'],\n",
       " ['6.1', '2.8', '4.0', '1.3', 'Iris-versicolor'],\n",
       " ['6.3', '2.5', '4.9', '1.5', 'Iris-versicolor'],\n",
       " ['6.1', '2.8', '4.7', '1.2', 'Iris-versicolor'],\n",
       " ['6.4', '2.9', '4.3', '1.3', 'Iris-versicolor'],\n",
       " ['6.6', '3.0', '4.4', '1.4', 'Iris-versicolor'],\n",
       " ['6.8', '2.8', '4.8', '1.4', 'Iris-versicolor'],\n",
       " ['6.7', '3.0', '5.0', '1.7', 'Iris-versicolor'],\n",
       " ['6.0', '2.9', '4.5', '1.5', 'Iris-versicolor'],\n",
       " ['5.7', '2.6', '3.5', '1.0', 'Iris-versicolor'],\n",
       " ['5.5', '2.4', '3.8', '1.1', 'Iris-versicolor'],\n",
       " ['5.5', '2.4', '3.7', '1.0', 'Iris-versicolor'],\n",
       " ['5.8', '2.7', '3.9', '1.2', 'Iris-versicolor'],\n",
       " ['6.0', '2.7', '5.1', '1.6', 'Iris-versicolor'],\n",
       " ['5.4', '3.0', '4.5', '1.5', 'Iris-versicolor'],\n",
       " ['6.0', '3.4', '4.5', '1.6', 'Iris-versicolor'],\n",
       " ['6.7', '3.1', '4.7', '1.5', 'Iris-versicolor'],\n",
       " ['6.3', '2.3', '4.4', '1.3', 'Iris-versicolor'],\n",
       " ['5.6', '3.0', '4.1', '1.3', 'Iris-versicolor'],\n",
       " ['5.5', '2.5', '4.0', '1.3', 'Iris-versicolor'],\n",
       " ['5.5', '2.6', '4.4', '1.2', 'Iris-versicolor'],\n",
       " ['6.1', '3.0', '4.6', '1.4', 'Iris-versicolor'],\n",
       " ['5.8', '2.6', '4.0', '1.2', 'Iris-versicolor'],\n",
       " ['5.0', '2.3', '3.3', '1.0', 'Iris-versicolor'],\n",
       " ['5.6', '2.7', '4.2', '1.3', 'Iris-versicolor'],\n",
       " ['5.7', '3.0', '4.2', '1.2', 'Iris-versicolor'],\n",
       " ['5.7', '2.9', '4.2', '1.3', 'Iris-versicolor'],\n",
       " ['6.2', '2.9', '4.3', '1.3', 'Iris-versicolor'],\n",
       " ['5.1', '2.5', '3.0', '1.1', 'Iris-versicolor'],\n",
       " ['5.7', '2.8', '4.1', '1.3', 'Iris-versicolor'],\n",
       " ['6.3', '3.3', '6.0', '2.5', 'Iris-virginica'],\n",
       " ['5.8', '2.7', '5.1', '1.9', 'Iris-virginica'],\n",
       " ['7.1', '3.0', '5.9', '2.1', 'Iris-virginica'],\n",
       " ['6.3', '2.9', '5.6', '1.8', 'Iris-virginica'],\n",
       " ['6.5', '3.0', '5.8', '2.2', 'Iris-virginica'],\n",
       " ['7.6', '3.0', '6.6', '2.1', 'Iris-virginica'],\n",
       " ['4.9', '2.5', '4.5', '1.7', 'Iris-virginica'],\n",
       " ['7.3', '2.9', '6.3', '1.8', 'Iris-virginica'],\n",
       " ['6.7', '2.5', '5.8', '1.8', 'Iris-virginica'],\n",
       " ['7.2', '3.6', '6.1', '2.5', 'Iris-virginica'],\n",
       " ['6.5', '3.2', '5.1', '2.0', 'Iris-virginica'],\n",
       " ['6.4', '2.7', '5.3', '1.9', 'Iris-virginica'],\n",
       " ['6.8', '3.0', '5.5', '2.1', 'Iris-virginica'],\n",
       " ['5.7', '2.5', '5.0', '2.0', 'Iris-virginica'],\n",
       " ['5.8', '2.8', '5.1', '2.4', 'Iris-virginica'],\n",
       " ['6.4', '3.2', '5.3', '2.3', 'Iris-virginica'],\n",
       " ['6.5', '3.0', '5.5', '1.8', 'Iris-virginica'],\n",
       " ['7.7', '3.8', '6.7', '2.2', 'Iris-virginica'],\n",
       " ['7.7', '2.6', '6.9', '2.3', 'Iris-virginica'],\n",
       " ['6.0', '2.2', '5.0', '1.5', 'Iris-virginica'],\n",
       " ['6.9', '3.2', '5.7', '2.3', 'Iris-virginica'],\n",
       " ['5.6', '2.8', '4.9', '2.0', 'Iris-virginica'],\n",
       " ['7.7', '2.8', '6.7', '2.0', 'Iris-virginica'],\n",
       " ['6.3', '2.7', '4.9', '1.8', 'Iris-virginica'],\n",
       " ['6.7', '3.3', '5.7', '2.1', 'Iris-virginica'],\n",
       " ['7.2', '3.2', '6.0', '1.8', 'Iris-virginica'],\n",
       " ['6.2', '2.8', '4.8', '1.8', 'Iris-virginica'],\n",
       " ['6.1', '3.0', '4.9', '1.8', 'Iris-virginica'],\n",
       " ['6.4', '2.8', '5.6', '2.1', 'Iris-virginica'],\n",
       " ['7.2', '3.0', '5.8', '1.6', 'Iris-virginica'],\n",
       " ['7.4', '2.8', '6.1', '1.9', 'Iris-virginica'],\n",
       " ['7.9', '3.8', '6.4', '2.0', 'Iris-virginica'],\n",
       " ['6.4', '2.8', '5.6', '2.2', 'Iris-virginica'],\n",
       " ['6.3', '2.8', '5.1', '1.5', 'Iris-virginica'],\n",
       " ['6.1', '2.6', '5.6', '1.4', 'Iris-virginica'],\n",
       " ['7.7', '3.0', '6.1', '2.3', 'Iris-virginica'],\n",
       " ['6.3', '3.4', '5.6', '2.4', 'Iris-virginica'],\n",
       " ['6.4', '3.1', '5.5', '1.8', 'Iris-virginica'],\n",
       " ['6.0', '3.0', '4.8', '1.8', 'Iris-virginica'],\n",
       " ['6.9', '3.1', '5.4', '2.1', 'Iris-virginica'],\n",
       " ['6.7', '3.1', '5.6', '2.4', 'Iris-virginica'],\n",
       " ['6.9', '3.1', '5.1', '2.3', 'Iris-virginica'],\n",
       " ['5.8', '2.7', '5.1', '1.9', 'Iris-virginica'],\n",
       " ['6.8', '3.2', '5.9', '2.3', 'Iris-virginica'],\n",
       " ['6.7', '3.3', '5.7', '2.5', 'Iris-virginica'],\n",
       " ['6.7', '3.0', '5.2', '2.3', 'Iris-virginica'],\n",
       " ['6.3', '2.5', '5.0', '1.9', 'Iris-virginica'],\n",
       " ['6.5', '3.0', '5.2', '2.0', 'Iris-virginica'],\n",
       " ['6.2', '3.4', '5.4', '2.3', 'Iris-virginica'],\n",
       " ['5.9', '3.0', '5.1', '1.8', 'Iris-virginica']]"
      ]
     },
     "execution_count": 8,
     "metadata": {},
     "output_type": "execute_result"
    }
   ],
   "source": [
    "dataset_final"
   ]
  },
  {
   "cell_type": "markdown",
   "metadata": {},
   "source": [
    "Além disso, é necessário transformar cada parâmetro de String para float, visto que os mesmos serão utilizados em operações matemáticas futuramente."
   ]
  },
  {
   "cell_type": "code",
   "execution_count": 9,
   "metadata": {},
   "outputs": [],
   "source": [
    "for dados in dataset_final[1:]:\n",
    "    for linha in range(0,4): # Sem a classe\n",
    "        dados[linha] = float(dados[linha])"
   ]
  },
  {
   "cell_type": "code",
   "execution_count": 10,
   "metadata": {},
   "outputs": [
    {
     "name": "stdout",
     "output_type": "stream",
     "text": [
      "151\n"
     ]
    },
    {
     "data": {
      "text/plain": [
       "[['sepal length', 'sepal width', 'petal length', 'petal width', 'class'],\n",
       " [5.1, 3.5, 1.4, 0.2, 'Iris-setosa'],\n",
       " [4.9, 3.0, 1.4, 0.2, 'Iris-setosa'],\n",
       " [4.7, 3.2, 1.3, 0.2, 'Iris-setosa'],\n",
       " [4.6, 3.1, 1.5, 0.2, 'Iris-setosa'],\n",
       " [5.0, 3.6, 1.4, 0.2, 'Iris-setosa'],\n",
       " [5.4, 3.9, 1.7, 0.4, 'Iris-setosa'],\n",
       " [4.6, 3.4, 1.4, 0.3, 'Iris-setosa'],\n",
       " [5.0, 3.4, 1.5, 0.2, 'Iris-setosa'],\n",
       " [4.4, 2.9, 1.4, 0.2, 'Iris-setosa'],\n",
       " [4.9, 3.1, 1.5, 0.1, 'Iris-setosa'],\n",
       " [5.4, 3.7, 1.5, 0.2, 'Iris-setosa'],\n",
       " [4.8, 3.4, 1.6, 0.2, 'Iris-setosa'],\n",
       " [4.8, 3.0, 1.4, 0.1, 'Iris-setosa'],\n",
       " [4.3, 3.0, 1.1, 0.1, 'Iris-setosa'],\n",
       " [5.8, 4.0, 1.2, 0.2, 'Iris-setosa'],\n",
       " [5.7, 4.4, 1.5, 0.4, 'Iris-setosa'],\n",
       " [5.4, 3.9, 1.3, 0.4, 'Iris-setosa'],\n",
       " [5.1, 3.5, 1.4, 0.3, 'Iris-setosa'],\n",
       " [5.7, 3.8, 1.7, 0.3, 'Iris-setosa'],\n",
       " [5.1, 3.8, 1.5, 0.3, 'Iris-setosa'],\n",
       " [5.4, 3.4, 1.7, 0.2, 'Iris-setosa'],\n",
       " [5.1, 3.7, 1.5, 0.4, 'Iris-setosa'],\n",
       " [4.6, 3.6, 1.0, 0.2, 'Iris-setosa'],\n",
       " [5.1, 3.3, 1.7, 0.5, 'Iris-setosa'],\n",
       " [4.8, 3.4, 1.9, 0.2, 'Iris-setosa'],\n",
       " [5.0, 3.0, 1.6, 0.2, 'Iris-setosa'],\n",
       " [5.0, 3.4, 1.6, 0.4, 'Iris-setosa'],\n",
       " [5.2, 3.5, 1.5, 0.2, 'Iris-setosa'],\n",
       " [5.2, 3.4, 1.4, 0.2, 'Iris-setosa'],\n",
       " [4.7, 3.2, 1.6, 0.2, 'Iris-setosa'],\n",
       " [4.8, 3.1, 1.6, 0.2, 'Iris-setosa'],\n",
       " [5.4, 3.4, 1.5, 0.4, 'Iris-setosa'],\n",
       " [5.2, 4.1, 1.5, 0.1, 'Iris-setosa'],\n",
       " [5.5, 4.2, 1.4, 0.2, 'Iris-setosa'],\n",
       " [4.9, 3.1, 1.5, 0.1, 'Iris-setosa'],\n",
       " [5.0, 3.2, 1.2, 0.2, 'Iris-setosa'],\n",
       " [5.5, 3.5, 1.3, 0.2, 'Iris-setosa'],\n",
       " [4.9, 3.1, 1.5, 0.1, 'Iris-setosa'],\n",
       " [4.4, 3.0, 1.3, 0.2, 'Iris-setosa'],\n",
       " [5.1, 3.4, 1.5, 0.2, 'Iris-setosa'],\n",
       " [5.0, 3.5, 1.3, 0.3, 'Iris-setosa'],\n",
       " [4.5, 2.3, 1.3, 0.3, 'Iris-setosa'],\n",
       " [4.4, 3.2, 1.3, 0.2, 'Iris-setosa'],\n",
       " [5.0, 3.5, 1.6, 0.6, 'Iris-setosa'],\n",
       " [5.1, 3.8, 1.9, 0.4, 'Iris-setosa'],\n",
       " [4.8, 3.0, 1.4, 0.3, 'Iris-setosa'],\n",
       " [5.1, 3.8, 1.6, 0.2, 'Iris-setosa'],\n",
       " [4.6, 3.2, 1.4, 0.2, 'Iris-setosa'],\n",
       " [5.3, 3.7, 1.5, 0.2, 'Iris-setosa'],\n",
       " [5.0, 3.3, 1.4, 0.2, 'Iris-setosa'],\n",
       " [7.0, 3.2, 4.7, 1.4, 'Iris-versicolor'],\n",
       " [6.4, 3.2, 4.5, 1.5, 'Iris-versicolor'],\n",
       " [6.9, 3.1, 4.9, 1.5, 'Iris-versicolor'],\n",
       " [5.5, 2.3, 4.0, 1.3, 'Iris-versicolor'],\n",
       " [6.5, 2.8, 4.6, 1.5, 'Iris-versicolor'],\n",
       " [5.7, 2.8, 4.5, 1.3, 'Iris-versicolor'],\n",
       " [6.3, 3.3, 4.7, 1.6, 'Iris-versicolor'],\n",
       " [4.9, 2.4, 3.3, 1.0, 'Iris-versicolor'],\n",
       " [6.6, 2.9, 4.6, 1.3, 'Iris-versicolor'],\n",
       " [5.2, 2.7, 3.9, 1.4, 'Iris-versicolor'],\n",
       " [5.0, 2.0, 3.5, 1.0, 'Iris-versicolor'],\n",
       " [5.9, 3.0, 4.2, 1.5, 'Iris-versicolor'],\n",
       " [6.0, 2.2, 4.0, 1.0, 'Iris-versicolor'],\n",
       " [6.1, 2.9, 4.7, 1.4, 'Iris-versicolor'],\n",
       " [5.6, 2.9, 3.6, 1.3, 'Iris-versicolor'],\n",
       " [6.7, 3.1, 4.4, 1.4, 'Iris-versicolor'],\n",
       " [5.6, 3.0, 4.5, 1.5, 'Iris-versicolor'],\n",
       " [5.8, 2.7, 4.1, 1.0, 'Iris-versicolor'],\n",
       " [6.2, 2.2, 4.5, 1.5, 'Iris-versicolor'],\n",
       " [5.6, 2.5, 3.9, 1.1, 'Iris-versicolor'],\n",
       " [5.9, 3.2, 4.8, 1.8, 'Iris-versicolor'],\n",
       " [6.1, 2.8, 4.0, 1.3, 'Iris-versicolor'],\n",
       " [6.3, 2.5, 4.9, 1.5, 'Iris-versicolor'],\n",
       " [6.1, 2.8, 4.7, 1.2, 'Iris-versicolor'],\n",
       " [6.4, 2.9, 4.3, 1.3, 'Iris-versicolor'],\n",
       " [6.6, 3.0, 4.4, 1.4, 'Iris-versicolor'],\n",
       " [6.8, 2.8, 4.8, 1.4, 'Iris-versicolor'],\n",
       " [6.7, 3.0, 5.0, 1.7, 'Iris-versicolor'],\n",
       " [6.0, 2.9, 4.5, 1.5, 'Iris-versicolor'],\n",
       " [5.7, 2.6, 3.5, 1.0, 'Iris-versicolor'],\n",
       " [5.5, 2.4, 3.8, 1.1, 'Iris-versicolor'],\n",
       " [5.5, 2.4, 3.7, 1.0, 'Iris-versicolor'],\n",
       " [5.8, 2.7, 3.9, 1.2, 'Iris-versicolor'],\n",
       " [6.0, 2.7, 5.1, 1.6, 'Iris-versicolor'],\n",
       " [5.4, 3.0, 4.5, 1.5, 'Iris-versicolor'],\n",
       " [6.0, 3.4, 4.5, 1.6, 'Iris-versicolor'],\n",
       " [6.7, 3.1, 4.7, 1.5, 'Iris-versicolor'],\n",
       " [6.3, 2.3, 4.4, 1.3, 'Iris-versicolor'],\n",
       " [5.6, 3.0, 4.1, 1.3, 'Iris-versicolor'],\n",
       " [5.5, 2.5, 4.0, 1.3, 'Iris-versicolor'],\n",
       " [5.5, 2.6, 4.4, 1.2, 'Iris-versicolor'],\n",
       " [6.1, 3.0, 4.6, 1.4, 'Iris-versicolor'],\n",
       " [5.8, 2.6, 4.0, 1.2, 'Iris-versicolor'],\n",
       " [5.0, 2.3, 3.3, 1.0, 'Iris-versicolor'],\n",
       " [5.6, 2.7, 4.2, 1.3, 'Iris-versicolor'],\n",
       " [5.7, 3.0, 4.2, 1.2, 'Iris-versicolor'],\n",
       " [5.7, 2.9, 4.2, 1.3, 'Iris-versicolor'],\n",
       " [6.2, 2.9, 4.3, 1.3, 'Iris-versicolor'],\n",
       " [5.1, 2.5, 3.0, 1.1, 'Iris-versicolor'],\n",
       " [5.7, 2.8, 4.1, 1.3, 'Iris-versicolor'],\n",
       " [6.3, 3.3, 6.0, 2.5, 'Iris-virginica'],\n",
       " [5.8, 2.7, 5.1, 1.9, 'Iris-virginica'],\n",
       " [7.1, 3.0, 5.9, 2.1, 'Iris-virginica'],\n",
       " [6.3, 2.9, 5.6, 1.8, 'Iris-virginica'],\n",
       " [6.5, 3.0, 5.8, 2.2, 'Iris-virginica'],\n",
       " [7.6, 3.0, 6.6, 2.1, 'Iris-virginica'],\n",
       " [4.9, 2.5, 4.5, 1.7, 'Iris-virginica'],\n",
       " [7.3, 2.9, 6.3, 1.8, 'Iris-virginica'],\n",
       " [6.7, 2.5, 5.8, 1.8, 'Iris-virginica'],\n",
       " [7.2, 3.6, 6.1, 2.5, 'Iris-virginica'],\n",
       " [6.5, 3.2, 5.1, 2.0, 'Iris-virginica'],\n",
       " [6.4, 2.7, 5.3, 1.9, 'Iris-virginica'],\n",
       " [6.8, 3.0, 5.5, 2.1, 'Iris-virginica'],\n",
       " [5.7, 2.5, 5.0, 2.0, 'Iris-virginica'],\n",
       " [5.8, 2.8, 5.1, 2.4, 'Iris-virginica'],\n",
       " [6.4, 3.2, 5.3, 2.3, 'Iris-virginica'],\n",
       " [6.5, 3.0, 5.5, 1.8, 'Iris-virginica'],\n",
       " [7.7, 3.8, 6.7, 2.2, 'Iris-virginica'],\n",
       " [7.7, 2.6, 6.9, 2.3, 'Iris-virginica'],\n",
       " [6.0, 2.2, 5.0, 1.5, 'Iris-virginica'],\n",
       " [6.9, 3.2, 5.7, 2.3, 'Iris-virginica'],\n",
       " [5.6, 2.8, 4.9, 2.0, 'Iris-virginica'],\n",
       " [7.7, 2.8, 6.7, 2.0, 'Iris-virginica'],\n",
       " [6.3, 2.7, 4.9, 1.8, 'Iris-virginica'],\n",
       " [6.7, 3.3, 5.7, 2.1, 'Iris-virginica'],\n",
       " [7.2, 3.2, 6.0, 1.8, 'Iris-virginica'],\n",
       " [6.2, 2.8, 4.8, 1.8, 'Iris-virginica'],\n",
       " [6.1, 3.0, 4.9, 1.8, 'Iris-virginica'],\n",
       " [6.4, 2.8, 5.6, 2.1, 'Iris-virginica'],\n",
       " [7.2, 3.0, 5.8, 1.6, 'Iris-virginica'],\n",
       " [7.4, 2.8, 6.1, 1.9, 'Iris-virginica'],\n",
       " [7.9, 3.8, 6.4, 2.0, 'Iris-virginica'],\n",
       " [6.4, 2.8, 5.6, 2.2, 'Iris-virginica'],\n",
       " [6.3, 2.8, 5.1, 1.5, 'Iris-virginica'],\n",
       " [6.1, 2.6, 5.6, 1.4, 'Iris-virginica'],\n",
       " [7.7, 3.0, 6.1, 2.3, 'Iris-virginica'],\n",
       " [6.3, 3.4, 5.6, 2.4, 'Iris-virginica'],\n",
       " [6.4, 3.1, 5.5, 1.8, 'Iris-virginica'],\n",
       " [6.0, 3.0, 4.8, 1.8, 'Iris-virginica'],\n",
       " [6.9, 3.1, 5.4, 2.1, 'Iris-virginica'],\n",
       " [6.7, 3.1, 5.6, 2.4, 'Iris-virginica'],\n",
       " [6.9, 3.1, 5.1, 2.3, 'Iris-virginica'],\n",
       " [5.8, 2.7, 5.1, 1.9, 'Iris-virginica'],\n",
       " [6.8, 3.2, 5.9, 2.3, 'Iris-virginica'],\n",
       " [6.7, 3.3, 5.7, 2.5, 'Iris-virginica'],\n",
       " [6.7, 3.0, 5.2, 2.3, 'Iris-virginica'],\n",
       " [6.3, 2.5, 5.0, 1.9, 'Iris-virginica'],\n",
       " [6.5, 3.0, 5.2, 2.0, 'Iris-virginica'],\n",
       " [6.2, 3.4, 5.4, 2.3, 'Iris-virginica'],\n",
       " [5.9, 3.0, 5.1, 1.8, 'Iris-virginica']]"
      ]
     },
     "execution_count": 10,
     "metadata": {},
     "output_type": "execute_result"
    }
   ],
   "source": [
    "print(len(dataset_final))\n",
    "dataset_final"
   ]
  },
  {
   "cell_type": "markdown",
   "metadata": {},
   "source": [
    "O cabeçalho do banco é separado dos registros, e os registros do dataset completo:"
   ]
  },
  {
   "cell_type": "code",
   "execution_count": 11,
   "metadata": {},
   "outputs": [
    {
     "data": {
      "text/plain": [
       "['sepal length', 'sepal width', 'petal length', 'petal width', 'class']"
      ]
     },
     "execution_count": 11,
     "metadata": {},
     "output_type": "execute_result"
    }
   ],
   "source": [
    "colunas = dataset_final[0]\n",
    "colunas"
   ]
  },
  {
   "cell_type": "markdown",
   "metadata": {},
   "source": [
    "#### A variável registros será a mais utilizada na implementação."
   ]
  },
  {
   "cell_type": "code",
   "execution_count": 12,
   "metadata": {},
   "outputs": [
    {
     "name": "stdout",
     "output_type": "stream",
     "text": [
      "150\n"
     ]
    },
    {
     "data": {
      "text/plain": [
       "[[5.1, 3.5, 1.4, 0.2, 'Iris-setosa'],\n",
       " [4.9, 3.0, 1.4, 0.2, 'Iris-setosa'],\n",
       " [4.7, 3.2, 1.3, 0.2, 'Iris-setosa'],\n",
       " [4.6, 3.1, 1.5, 0.2, 'Iris-setosa'],\n",
       " [5.0, 3.6, 1.4, 0.2, 'Iris-setosa'],\n",
       " [5.4, 3.9, 1.7, 0.4, 'Iris-setosa'],\n",
       " [4.6, 3.4, 1.4, 0.3, 'Iris-setosa'],\n",
       " [5.0, 3.4, 1.5, 0.2, 'Iris-setosa'],\n",
       " [4.4, 2.9, 1.4, 0.2, 'Iris-setosa'],\n",
       " [4.9, 3.1, 1.5, 0.1, 'Iris-setosa'],\n",
       " [5.4, 3.7, 1.5, 0.2, 'Iris-setosa'],\n",
       " [4.8, 3.4, 1.6, 0.2, 'Iris-setosa'],\n",
       " [4.8, 3.0, 1.4, 0.1, 'Iris-setosa'],\n",
       " [4.3, 3.0, 1.1, 0.1, 'Iris-setosa'],\n",
       " [5.8, 4.0, 1.2, 0.2, 'Iris-setosa'],\n",
       " [5.7, 4.4, 1.5, 0.4, 'Iris-setosa'],\n",
       " [5.4, 3.9, 1.3, 0.4, 'Iris-setosa'],\n",
       " [5.1, 3.5, 1.4, 0.3, 'Iris-setosa'],\n",
       " [5.7, 3.8, 1.7, 0.3, 'Iris-setosa'],\n",
       " [5.1, 3.8, 1.5, 0.3, 'Iris-setosa'],\n",
       " [5.4, 3.4, 1.7, 0.2, 'Iris-setosa'],\n",
       " [5.1, 3.7, 1.5, 0.4, 'Iris-setosa'],\n",
       " [4.6, 3.6, 1.0, 0.2, 'Iris-setosa'],\n",
       " [5.1, 3.3, 1.7, 0.5, 'Iris-setosa'],\n",
       " [4.8, 3.4, 1.9, 0.2, 'Iris-setosa'],\n",
       " [5.0, 3.0, 1.6, 0.2, 'Iris-setosa'],\n",
       " [5.0, 3.4, 1.6, 0.4, 'Iris-setosa'],\n",
       " [5.2, 3.5, 1.5, 0.2, 'Iris-setosa'],\n",
       " [5.2, 3.4, 1.4, 0.2, 'Iris-setosa'],\n",
       " [4.7, 3.2, 1.6, 0.2, 'Iris-setosa'],\n",
       " [4.8, 3.1, 1.6, 0.2, 'Iris-setosa'],\n",
       " [5.4, 3.4, 1.5, 0.4, 'Iris-setosa'],\n",
       " [5.2, 4.1, 1.5, 0.1, 'Iris-setosa'],\n",
       " [5.5, 4.2, 1.4, 0.2, 'Iris-setosa'],\n",
       " [4.9, 3.1, 1.5, 0.1, 'Iris-setosa'],\n",
       " [5.0, 3.2, 1.2, 0.2, 'Iris-setosa'],\n",
       " [5.5, 3.5, 1.3, 0.2, 'Iris-setosa'],\n",
       " [4.9, 3.1, 1.5, 0.1, 'Iris-setosa'],\n",
       " [4.4, 3.0, 1.3, 0.2, 'Iris-setosa'],\n",
       " [5.1, 3.4, 1.5, 0.2, 'Iris-setosa'],\n",
       " [5.0, 3.5, 1.3, 0.3, 'Iris-setosa'],\n",
       " [4.5, 2.3, 1.3, 0.3, 'Iris-setosa'],\n",
       " [4.4, 3.2, 1.3, 0.2, 'Iris-setosa'],\n",
       " [5.0, 3.5, 1.6, 0.6, 'Iris-setosa'],\n",
       " [5.1, 3.8, 1.9, 0.4, 'Iris-setosa'],\n",
       " [4.8, 3.0, 1.4, 0.3, 'Iris-setosa'],\n",
       " [5.1, 3.8, 1.6, 0.2, 'Iris-setosa'],\n",
       " [4.6, 3.2, 1.4, 0.2, 'Iris-setosa'],\n",
       " [5.3, 3.7, 1.5, 0.2, 'Iris-setosa'],\n",
       " [5.0, 3.3, 1.4, 0.2, 'Iris-setosa'],\n",
       " [7.0, 3.2, 4.7, 1.4, 'Iris-versicolor'],\n",
       " [6.4, 3.2, 4.5, 1.5, 'Iris-versicolor'],\n",
       " [6.9, 3.1, 4.9, 1.5, 'Iris-versicolor'],\n",
       " [5.5, 2.3, 4.0, 1.3, 'Iris-versicolor'],\n",
       " [6.5, 2.8, 4.6, 1.5, 'Iris-versicolor'],\n",
       " [5.7, 2.8, 4.5, 1.3, 'Iris-versicolor'],\n",
       " [6.3, 3.3, 4.7, 1.6, 'Iris-versicolor'],\n",
       " [4.9, 2.4, 3.3, 1.0, 'Iris-versicolor'],\n",
       " [6.6, 2.9, 4.6, 1.3, 'Iris-versicolor'],\n",
       " [5.2, 2.7, 3.9, 1.4, 'Iris-versicolor'],\n",
       " [5.0, 2.0, 3.5, 1.0, 'Iris-versicolor'],\n",
       " [5.9, 3.0, 4.2, 1.5, 'Iris-versicolor'],\n",
       " [6.0, 2.2, 4.0, 1.0, 'Iris-versicolor'],\n",
       " [6.1, 2.9, 4.7, 1.4, 'Iris-versicolor'],\n",
       " [5.6, 2.9, 3.6, 1.3, 'Iris-versicolor'],\n",
       " [6.7, 3.1, 4.4, 1.4, 'Iris-versicolor'],\n",
       " [5.6, 3.0, 4.5, 1.5, 'Iris-versicolor'],\n",
       " [5.8, 2.7, 4.1, 1.0, 'Iris-versicolor'],\n",
       " [6.2, 2.2, 4.5, 1.5, 'Iris-versicolor'],\n",
       " [5.6, 2.5, 3.9, 1.1, 'Iris-versicolor'],\n",
       " [5.9, 3.2, 4.8, 1.8, 'Iris-versicolor'],\n",
       " [6.1, 2.8, 4.0, 1.3, 'Iris-versicolor'],\n",
       " [6.3, 2.5, 4.9, 1.5, 'Iris-versicolor'],\n",
       " [6.1, 2.8, 4.7, 1.2, 'Iris-versicolor'],\n",
       " [6.4, 2.9, 4.3, 1.3, 'Iris-versicolor'],\n",
       " [6.6, 3.0, 4.4, 1.4, 'Iris-versicolor'],\n",
       " [6.8, 2.8, 4.8, 1.4, 'Iris-versicolor'],\n",
       " [6.7, 3.0, 5.0, 1.7, 'Iris-versicolor'],\n",
       " [6.0, 2.9, 4.5, 1.5, 'Iris-versicolor'],\n",
       " [5.7, 2.6, 3.5, 1.0, 'Iris-versicolor'],\n",
       " [5.5, 2.4, 3.8, 1.1, 'Iris-versicolor'],\n",
       " [5.5, 2.4, 3.7, 1.0, 'Iris-versicolor'],\n",
       " [5.8, 2.7, 3.9, 1.2, 'Iris-versicolor'],\n",
       " [6.0, 2.7, 5.1, 1.6, 'Iris-versicolor'],\n",
       " [5.4, 3.0, 4.5, 1.5, 'Iris-versicolor'],\n",
       " [6.0, 3.4, 4.5, 1.6, 'Iris-versicolor'],\n",
       " [6.7, 3.1, 4.7, 1.5, 'Iris-versicolor'],\n",
       " [6.3, 2.3, 4.4, 1.3, 'Iris-versicolor'],\n",
       " [5.6, 3.0, 4.1, 1.3, 'Iris-versicolor'],\n",
       " [5.5, 2.5, 4.0, 1.3, 'Iris-versicolor'],\n",
       " [5.5, 2.6, 4.4, 1.2, 'Iris-versicolor'],\n",
       " [6.1, 3.0, 4.6, 1.4, 'Iris-versicolor'],\n",
       " [5.8, 2.6, 4.0, 1.2, 'Iris-versicolor'],\n",
       " [5.0, 2.3, 3.3, 1.0, 'Iris-versicolor'],\n",
       " [5.6, 2.7, 4.2, 1.3, 'Iris-versicolor'],\n",
       " [5.7, 3.0, 4.2, 1.2, 'Iris-versicolor'],\n",
       " [5.7, 2.9, 4.2, 1.3, 'Iris-versicolor'],\n",
       " [6.2, 2.9, 4.3, 1.3, 'Iris-versicolor'],\n",
       " [5.1, 2.5, 3.0, 1.1, 'Iris-versicolor'],\n",
       " [5.7, 2.8, 4.1, 1.3, 'Iris-versicolor'],\n",
       " [6.3, 3.3, 6.0, 2.5, 'Iris-virginica'],\n",
       " [5.8, 2.7, 5.1, 1.9, 'Iris-virginica'],\n",
       " [7.1, 3.0, 5.9, 2.1, 'Iris-virginica'],\n",
       " [6.3, 2.9, 5.6, 1.8, 'Iris-virginica'],\n",
       " [6.5, 3.0, 5.8, 2.2, 'Iris-virginica'],\n",
       " [7.6, 3.0, 6.6, 2.1, 'Iris-virginica'],\n",
       " [4.9, 2.5, 4.5, 1.7, 'Iris-virginica'],\n",
       " [7.3, 2.9, 6.3, 1.8, 'Iris-virginica'],\n",
       " [6.7, 2.5, 5.8, 1.8, 'Iris-virginica'],\n",
       " [7.2, 3.6, 6.1, 2.5, 'Iris-virginica'],\n",
       " [6.5, 3.2, 5.1, 2.0, 'Iris-virginica'],\n",
       " [6.4, 2.7, 5.3, 1.9, 'Iris-virginica'],\n",
       " [6.8, 3.0, 5.5, 2.1, 'Iris-virginica'],\n",
       " [5.7, 2.5, 5.0, 2.0, 'Iris-virginica'],\n",
       " [5.8, 2.8, 5.1, 2.4, 'Iris-virginica'],\n",
       " [6.4, 3.2, 5.3, 2.3, 'Iris-virginica'],\n",
       " [6.5, 3.0, 5.5, 1.8, 'Iris-virginica'],\n",
       " [7.7, 3.8, 6.7, 2.2, 'Iris-virginica'],\n",
       " [7.7, 2.6, 6.9, 2.3, 'Iris-virginica'],\n",
       " [6.0, 2.2, 5.0, 1.5, 'Iris-virginica'],\n",
       " [6.9, 3.2, 5.7, 2.3, 'Iris-virginica'],\n",
       " [5.6, 2.8, 4.9, 2.0, 'Iris-virginica'],\n",
       " [7.7, 2.8, 6.7, 2.0, 'Iris-virginica'],\n",
       " [6.3, 2.7, 4.9, 1.8, 'Iris-virginica'],\n",
       " [6.7, 3.3, 5.7, 2.1, 'Iris-virginica'],\n",
       " [7.2, 3.2, 6.0, 1.8, 'Iris-virginica'],\n",
       " [6.2, 2.8, 4.8, 1.8, 'Iris-virginica'],\n",
       " [6.1, 3.0, 4.9, 1.8, 'Iris-virginica'],\n",
       " [6.4, 2.8, 5.6, 2.1, 'Iris-virginica'],\n",
       " [7.2, 3.0, 5.8, 1.6, 'Iris-virginica'],\n",
       " [7.4, 2.8, 6.1, 1.9, 'Iris-virginica'],\n",
       " [7.9, 3.8, 6.4, 2.0, 'Iris-virginica'],\n",
       " [6.4, 2.8, 5.6, 2.2, 'Iris-virginica'],\n",
       " [6.3, 2.8, 5.1, 1.5, 'Iris-virginica'],\n",
       " [6.1, 2.6, 5.6, 1.4, 'Iris-virginica'],\n",
       " [7.7, 3.0, 6.1, 2.3, 'Iris-virginica'],\n",
       " [6.3, 3.4, 5.6, 2.4, 'Iris-virginica'],\n",
       " [6.4, 3.1, 5.5, 1.8, 'Iris-virginica'],\n",
       " [6.0, 3.0, 4.8, 1.8, 'Iris-virginica'],\n",
       " [6.9, 3.1, 5.4, 2.1, 'Iris-virginica'],\n",
       " [6.7, 3.1, 5.6, 2.4, 'Iris-virginica'],\n",
       " [6.9, 3.1, 5.1, 2.3, 'Iris-virginica'],\n",
       " [5.8, 2.7, 5.1, 1.9, 'Iris-virginica'],\n",
       " [6.8, 3.2, 5.9, 2.3, 'Iris-virginica'],\n",
       " [6.7, 3.3, 5.7, 2.5, 'Iris-virginica'],\n",
       " [6.7, 3.0, 5.2, 2.3, 'Iris-virginica'],\n",
       " [6.3, 2.5, 5.0, 1.9, 'Iris-virginica'],\n",
       " [6.5, 3.0, 5.2, 2.0, 'Iris-virginica'],\n",
       " [6.2, 3.4, 5.4, 2.3, 'Iris-virginica'],\n",
       " [5.9, 3.0, 5.1, 1.8, 'Iris-virginica']]"
      ]
     },
     "execution_count": 12,
     "metadata": {},
     "output_type": "execute_result"
    }
   ],
   "source": [
    "registros = dataset_final[1:] # Tirando o cabeçalho\n",
    "print(len(registros))\n",
    "registros"
   ]
  },
  {
   "cell_type": "markdown",
   "metadata": {},
   "source": [
    "#### Criação do dicionário"
   ]
  },
  {
   "cell_type": "markdown",
   "metadata": {},
   "source": [
    "Em seguida, é criado um dicionário, onde cada parâmetro/classe terá como *values* seus respectivos registros do banco."
   ]
  },
  {
   "cell_type": "code",
   "execution_count": 13,
   "metadata": {},
   "outputs": [
    {
     "data": {
      "text/plain": [
       "{'sepal length': [],\n",
       " 'sepal width': [],\n",
       " 'petal length': [],\n",
       " 'petal width': [],\n",
       " 'class': []}"
      ]
     },
     "execution_count": 13,
     "metadata": {},
     "output_type": "execute_result"
    }
   ],
   "source": [
    "iris_dados = {}\n",
    "\n",
    "for coluna in colunas:\n",
    "    iris_dados[coluna] = []   \n",
    "iris_dados"
   ]
  },
  {
   "cell_type": "markdown",
   "metadata": {},
   "source": [
    "Por fim, os valores de cada coluna são atribuidos à sua *key* no dicionário. Para isso, utiliza-se método *enumerate*, que além do valor do elemento, também retorna o seu índice."
   ]
  },
  {
   "cell_type": "code",
   "execution_count": 14,
   "metadata": {},
   "outputs": [],
   "source": [
    "for dados in registros: \n",
    "    for indice, dado in enumerate(dados): \n",
    "        coluna = colunas[indice]\n",
    "        iris_dados[coluna].append(dado)"
   ]
  },
  {
   "cell_type": "markdown",
   "metadata": {},
   "source": [
    "O dicionário foi criado apenas para melhor organização e visualização. A lista registros será a mais usada na criação do algoritmo."
   ]
  },
  {
   "cell_type": "markdown",
   "metadata": {},
   "source": [
    "#### Resultados parciais: "
   ]
  },
  {
   "cell_type": "code",
   "execution_count": 15,
   "metadata": {},
   "outputs": [
    {
     "name": "stdout",
     "output_type": "stream",
     "text": [
      "dict_keys(['sepal length', 'sepal width', 'petal length', 'petal width', 'class'])\n"
     ]
    }
   ],
   "source": [
    "print(iris_dados.keys())"
   ]
  },
  {
   "cell_type": "code",
   "execution_count": 16,
   "metadata": {},
   "outputs": [
    {
     "name": "stdout",
     "output_type": "stream",
     "text": [
      "Classe: ['Iris-setosa', 'Iris-setosa', 'Iris-setosa', 'Iris-setosa', 'Iris-setosa', 'Iris-setosa', 'Iris-setosa', 'Iris-setosa', 'Iris-setosa', 'Iris-setosa', 'Iris-setosa', 'Iris-setosa', 'Iris-setosa', 'Iris-setosa', 'Iris-setosa', 'Iris-setosa', 'Iris-setosa', 'Iris-setosa', 'Iris-setosa', 'Iris-setosa', 'Iris-setosa', 'Iris-setosa', 'Iris-setosa', 'Iris-setosa', 'Iris-setosa', 'Iris-setosa', 'Iris-setosa', 'Iris-setosa', 'Iris-setosa', 'Iris-setosa', 'Iris-setosa', 'Iris-setosa', 'Iris-setosa', 'Iris-setosa', 'Iris-setosa', 'Iris-setosa', 'Iris-setosa', 'Iris-setosa', 'Iris-setosa', 'Iris-setosa', 'Iris-setosa', 'Iris-setosa', 'Iris-setosa', 'Iris-setosa', 'Iris-setosa', 'Iris-setosa', 'Iris-setosa', 'Iris-setosa', 'Iris-setosa', 'Iris-setosa', 'Iris-versicolor', 'Iris-versicolor', 'Iris-versicolor', 'Iris-versicolor', 'Iris-versicolor', 'Iris-versicolor', 'Iris-versicolor', 'Iris-versicolor', 'Iris-versicolor', 'Iris-versicolor', 'Iris-versicolor', 'Iris-versicolor', 'Iris-versicolor', 'Iris-versicolor', 'Iris-versicolor', 'Iris-versicolor', 'Iris-versicolor', 'Iris-versicolor', 'Iris-versicolor', 'Iris-versicolor', 'Iris-versicolor', 'Iris-versicolor', 'Iris-versicolor', 'Iris-versicolor', 'Iris-versicolor', 'Iris-versicolor', 'Iris-versicolor', 'Iris-versicolor', 'Iris-versicolor', 'Iris-versicolor', 'Iris-versicolor', 'Iris-versicolor', 'Iris-versicolor', 'Iris-versicolor', 'Iris-versicolor', 'Iris-versicolor', 'Iris-versicolor', 'Iris-versicolor', 'Iris-versicolor', 'Iris-versicolor', 'Iris-versicolor', 'Iris-versicolor', 'Iris-versicolor', 'Iris-versicolor', 'Iris-versicolor', 'Iris-versicolor', 'Iris-versicolor', 'Iris-versicolor', 'Iris-versicolor', 'Iris-versicolor', 'Iris-virginica', 'Iris-virginica', 'Iris-virginica', 'Iris-virginica', 'Iris-virginica', 'Iris-virginica', 'Iris-virginica', 'Iris-virginica', 'Iris-virginica', 'Iris-virginica', 'Iris-virginica', 'Iris-virginica', 'Iris-virginica', 'Iris-virginica', 'Iris-virginica', 'Iris-virginica', 'Iris-virginica', 'Iris-virginica', 'Iris-virginica', 'Iris-virginica', 'Iris-virginica', 'Iris-virginica', 'Iris-virginica', 'Iris-virginica', 'Iris-virginica', 'Iris-virginica', 'Iris-virginica', 'Iris-virginica', 'Iris-virginica', 'Iris-virginica', 'Iris-virginica', 'Iris-virginica', 'Iris-virginica', 'Iris-virginica', 'Iris-virginica', 'Iris-virginica', 'Iris-virginica', 'Iris-virginica', 'Iris-virginica', 'Iris-virginica', 'Iris-virginica', 'Iris-virginica', 'Iris-virginica', 'Iris-virginica', 'Iris-virginica', 'Iris-virginica', 'Iris-virginica', 'Iris-virginica', 'Iris-virginica', 'Iris-virginica']\n",
      "150\n"
     ]
    }
   ],
   "source": [
    "print('Classe:', iris_dados.get(\"class\"))\n",
    "print(len(iris_dados.get(\"class\")))"
   ]
  },
  {
   "cell_type": "markdown",
   "metadata": {},
   "source": [
    "## 3. Algoritmo KNN\n",
    "O algoritmo KNN classifica um registro de *label* desconhecida de acordo com a votação dos K vizinhos mais próximos a ele. Por exemplo: para um dado desconhecido, calcula-se que dos 3 vizinhos mais próximos a ele, 2 são da classe X e 1 da classe Y. O algoritmo classifica o dado como da classe X. A implementação desse método foi feita a seguir:"
   ]
  },
  {
   "cell_type": "markdown",
   "metadata": {},
   "source": [
    "### 3.1. Distância Euclideana"
   ]
  },
  {
   "cell_type": "markdown",
   "metadata": {},
   "source": [
    "Para dois registros x e y quaisquer, a distância euclideana entre eles é dada pela seguinte fórmula, onde i varia de 1 até n *features* de cada registro:"
   ]
  },
  {
   "cell_type": "markdown",
   "metadata": {},
   "source": [
    "\\begin{equation*}\n",
    "\\large\n",
    "    d(x,y) = \\sqrt{\n",
    "        \\sum_{i=1}^n(x_i - y_i)^2\n",
    "    }\n",
    "\\end{equation*}"
   ]
  },
  {
   "cell_type": "code",
   "execution_count": 17,
   "metadata": {},
   "outputs": [],
   "source": [
    "import math\n",
    "def dist_euclideana(registro1, registro2, length):\n",
    "    distancia = 0\n",
    "    for i in range(length):\n",
    "        distancia += (registro1[i] - registro2[i])**2\n",
    "    return math.sqrt(distancia)        "
   ]
  },
  {
   "cell_type": "code",
   "execution_count": 18,
   "metadata": {},
   "outputs": [
    {
     "data": {
      "text/plain": [
       "3.4641016151377544"
      ]
     },
     "execution_count": 18,
     "metadata": {},
     "output_type": "execute_result"
    }
   ],
   "source": [
    "a = [2,2,2,'a']\n",
    "b = [4,4,4,'b']\n",
    "\n",
    "dist_euclideana(a,b,3)"
   ]
  },
  {
   "cell_type": "markdown",
   "metadata": {},
   "source": [
    "#### Teste para os dois primeiros registros do dataset:"
   ]
  },
  {
   "cell_type": "markdown",
   "metadata": {},
   "source": [
    "De forma generalizada, basta usar a variável \"registros\" para ter a estrutura semelhanta à usada"
   ]
  },
  {
   "cell_type": "code",
   "execution_count": 19,
   "metadata": {},
   "outputs": [
    {
     "name": "stdout",
     "output_type": "stream",
     "text": [
      "[5.1, 3.5, 1.4, 0.2, 'Iris-setosa']\n",
      "[4.9, 3.0, 1.4, 0.2, 'Iris-setosa']\n"
     ]
    }
   ],
   "source": [
    "print(registros[0])\n",
    "print(registros[1])"
   ]
  },
  {
   "cell_type": "code",
   "execution_count": 20,
   "metadata": {},
   "outputs": [
    {
     "data": {
      "text/plain": [
       "0.5385164807134502"
      ]
     },
     "execution_count": 20,
     "metadata": {},
     "output_type": "execute_result"
    }
   ],
   "source": [
    "dist_euclideana(registros[0],registros[1], 4)"
   ]
  },
  {
   "cell_type": "markdown",
   "metadata": {},
   "source": [
    "### 3.2. K Vizinhos mais próximos"
   ]
  },
  {
   "cell_type": "markdown",
   "metadata": {},
   "source": [
    "Para calcular os K vizinhos mais próximos, a função percorre todos os registros, calculando a distância do registro atual ao registro de teste. No vetor distancias, o registro com sua distância é \"appendado\" para, depois, tal vetor ser ordenado em ordem crescente.\n",
    "Em seguida, os K menores vizinhos são retornados pela função, sem a distância."
   ]
  },
  {
   "cell_type": "code",
   "execution_count": 21,
   "metadata": {},
   "outputs": [],
   "source": [
    "def knn(registro_teste, base_treinamento, k):\n",
    "        distancias = [] # Vetor com a distancia de todos os registros\n",
    "        length = len(registro_teste) - 1 # Index começa no 0\n",
    "\n",
    "        for i in range(len(base_treinamento)):\n",
    "            distancia = dist_euclideana(registro_teste,base_treinamento[i], length) # Distância do registro de teste a todos os outros.\n",
    "            distancias.append((distancia,base_treinamento[i])) # Junta todas os registros com suas distâncias ao registro de teste \n",
    "        distancias.sort() # - Ordem do append é importante pois define o índice usado na ordenação (no caso, a distância)\n",
    "        \n",
    "        vizinhos = []\n",
    "        for j in range(k):\n",
    "            vizinhos.append(distancias[j][1]) # Junta em vizinhos os k vizinhos mais próximos\n",
    "    \n",
    "        return vizinhos # Retorna os vizinhos mais próximos e não as distâncias"
   ]
  },
  {
   "cell_type": "markdown",
   "metadata": {},
   "source": [
    "Para um registro de teste qualquer, o resultado é o seguinte:"
   ]
  },
  {
   "cell_type": "code",
   "execution_count": 22,
   "metadata": {},
   "outputs": [
    {
     "data": {
      "text/plain": [
       "[[6.3, 3.3, 6.0, 2.5, 'Iris-virginica'],\n",
       " [6.3, 3.4, 5.6, 2.4, 'Iris-virginica'],\n",
       " [6.2, 3.4, 5.4, 2.3, 'Iris-virginica']]"
      ]
     },
     "execution_count": 22,
     "metadata": {},
     "output_type": "execute_result"
    }
   ],
   "source": [
    "teste = [4,5,6.3,5.2,'a']\n",
    "knn(teste, registros, 3)"
   ]
  },
  {
   "cell_type": "markdown",
   "metadata": {},
   "source": [
    "### 3.3. Classificador"
   ]
  },
  {
   "cell_type": "markdown",
   "metadata": {},
   "source": [
    "Para calcular de qual classe um registro é, baseado em seus vizinhos mais próximos, a função percorre cada registro e armazena sua classe como uma *key* de um dicionário. Para cada vez que essa classe é contada, seu valor no dicionário é incrementado. Por fim, a função ordena esse dicionário de forma decrescente, baseado na sua *key* (lambda), e retorna o valor mais comum de classe."
   ]
  },
  {
   "cell_type": "code",
   "execution_count": 23,
   "metadata": {},
   "outputs": [],
   "source": [
    "def resposta(vizinhos):\n",
    "    votos = {}\n",
    "    for i in range(len(vizinhos)):\n",
    "        resposta = vizinhos [i][-1] # Pega somente a classe de cada vizinho\n",
    "        if resposta in votos:\n",
    "            votos[resposta] +=1 # Contador para cada classe\n",
    "        else:\n",
    "            votos[resposta] = 1\n",
    "    votos_ordenados = sorted(votos.items(), key=lambda x:x[1], reverse = True) # Do mais comum para o menos comum\n",
    "        \n",
    "    return votos_ordenados[0][0] # Retorna o mais comum  "
   ]
  },
  {
   "cell_type": "code",
   "execution_count": 24,
   "metadata": {},
   "outputs": [
    {
     "data": {
      "text/plain": [
       "'Iris-virginica'"
      ]
     },
     "execution_count": 24,
     "metadata": {},
     "output_type": "execute_result"
    }
   ],
   "source": [
    "vizinhos = [[6.3, 3.3, 6.0, 2.5, 'Iris-virginica'], \n",
    "            [6.3, 3.4, 5.6, 2.4, 'Teste'], \n",
    "            [6.2, 3.4, 5.4, 2.3, 'Iris-virginica']]\n",
    "\n",
    "resposta(vizinhos)"
   ]
  },
  {
   "cell_type": "markdown",
   "metadata": {},
   "source": [
    "### 3.4. Previsões\n",
    "Essa função utiliza os métodos criados anteriormente, knn e resposta, para retornar a classe dos K vizinhos mais próximos utilizando uma base de treinamento e teste, que serão criadas nas seções futuras."
   ]
  },
  {
   "cell_type": "code",
   "execution_count": 25,
   "metadata": {},
   "outputs": [],
   "source": [
    "def predict(base_treinamento, base_teste):\n",
    "    k = 3\n",
    "    previsoes= []\n",
    "    for i in range(len(base_teste)):\n",
    "        vizinhos = knn(base_teste[i], base_treinamento, k)\n",
    "        resultados = resposta(vizinhos)\n",
    "        previsoes.append(resultados)\n",
    "\n",
    "    return previsoes"
   ]
  },
  {
   "cell_type": "code",
   "execution_count": 26,
   "metadata": {},
   "outputs": [],
   "source": [
    "base_teste = [[6.3, 3.3, 6.0, 2.5, 'Iris-virginica'], \n",
    "              [6.3, 3.4, 5.6, 2.4, 'Iris-virginica'],\n",
    "              [6.2, 3.4, 5.4, 2.3, 'Iris-virginica']]"
   ]
  },
  {
   "cell_type": "code",
   "execution_count": 27,
   "metadata": {},
   "outputs": [
    {
     "data": {
      "text/plain": [
       "['Iris-virginica', 'Iris-virginica', 'Iris-virginica']"
      ]
     },
     "execution_count": 27,
     "metadata": {},
     "output_type": "execute_result"
    }
   ],
   "source": [
    "previsoes = predict(registros, base_teste)\n",
    "previsoes"
   ]
  },
  {
   "cell_type": "markdown",
   "metadata": {},
   "source": [
    "### 3.5. Acurácia"
   ]
  },
  {
   "cell_type": "markdown",
   "metadata": {},
   "source": [
    "A acurácia é calculada pelo método tradicional de comparação do valor real com as previsões do modelo. A função retorna a acurácia entre 0 e 1."
   ]
  },
  {
   "cell_type": "code",
   "execution_count": 28,
   "metadata": {},
   "outputs": [],
   "source": [
    "def acuracia(base_teste, previsoes):\n",
    "    corretos = 0\n",
    "    for i in range(len(base_teste)):\n",
    "\n",
    "        if (base_teste[i][-1] == previsoes[i]):\n",
    "            corretos +=1\n",
    "    porcentagem = (corretos /float( len(base_teste)))\n",
    "\n",
    "    return round(porcentagem,2)"
   ]
  },
  {
   "cell_type": "code",
   "execution_count": 29,
   "metadata": {},
   "outputs": [
    {
     "data": {
      "text/plain": [
       "1.0"
      ]
     },
     "execution_count": 29,
     "metadata": {},
     "output_type": "execute_result"
    }
   ],
   "source": [
    "acuracia(base_teste, previsoes)"
   ]
  },
  {
   "cell_type": "markdown",
   "metadata": {},
   "source": [
    "### 3.6. Resumo de resultados\n",
    "Essa função fornece ao usuário uma resposta visual, exibindo um resumo do algortimo."
   ]
  },
  {
   "cell_type": "code",
   "execution_count": 30,
   "metadata": {},
   "outputs": [],
   "source": [
    "def resultados(base_treinamento, base_teste, previsoes):\n",
    "        total = len(base_treinamento) + len(base_teste)\n",
    "        acertos = round(len(base_teste) * acuracia)\n",
    "        erros = len(base_teste) - acertos\n",
    "        print('Total de registros:', total)\n",
    "        print('Tamanho da base de teste:', len(base_teste))\n",
    "        print()\n",
    "        for i in range(len(base_teste)):\n",
    "            print('Registro [%i]:' %i, '\\t classe real:', base_teste[i][-1], '\\t classe prevista:', previsoes[i])  \n",
    "        print()\n",
    "        print('Acurácia do modelo: %.2f'% (acuracia * 100),'%')        \n",
    "        print('Total de acertos = ', acertos )\n",
    "        print('Total de erros = ', erros )\n",
    "        print()    "
   ]
  },
  {
   "cell_type": "markdown",
   "metadata": {},
   "source": [
    "Nesse caso, ainda é necessário criar a base de testes e treinamento, visto que, para o testes realizados, a base de treinamento utilizada contém os registros da base de teste, o que prejudica os resultados. Tal procedimento será feito na seção seguinte."
   ]
  },
  {
   "cell_type": "markdown",
   "metadata": {},
   "source": [
    "## 4. Criação do algoritmo de geração de bases;"
   ]
  },
  {
   "cell_type": "markdown",
   "metadata": {},
   "source": [
    "Para validação do modelo, foi implementada uma função que cria uma base de teste, com n registros selecionados aleatoriamente do dataset, e a base de treinamento:"
   ]
  },
  {
   "cell_type": "code",
   "execution_count": 31,
   "metadata": {},
   "outputs": [],
   "source": [
    "import random\n",
    "\n",
    "def gerador_bases(dataset, n):\n",
    "    indices_random = random.sample(range(0,len(dataset)-1), n)\n",
    "    base_teste_n = []\n",
    "    base_treinamento_n = []\n",
    "    for i in range(n):\n",
    "        base_teste_n.append(dataset[indices_random[i]])\n",
    "    for j in range(len(dataset)):\n",
    "        if(j not in indices_random):\n",
    "            base_treinamento_n.append(dataset[j])\n",
    "            \n",
    "    return  base_treinamento_n, base_teste_n,"
   ]
  },
  {
   "cell_type": "code",
   "execution_count": 32,
   "metadata": {},
   "outputs": [
    {
     "name": "stdout",
     "output_type": "stream",
     "text": [
      "Tamanho da base de treinamento: 145\n",
      "Tamanho da base de teste: 5\n"
     ]
    }
   ],
   "source": [
    "base_treinamento_final, base_teste_final = gerador_bases(registros, 5)\n",
    "print('Tamanho da base de treinamento:',len(base_treinamento_final))\n",
    "print('Tamanho da base de teste:',len(base_teste_final))"
   ]
  },
  {
   "cell_type": "markdown",
   "metadata": {},
   "source": [
    "## 5. Orientação do código a objetos"
   ]
  },
  {
   "cell_type": "markdown",
   "metadata": {},
   "source": [
    "Para que o algoritmo KNN fique visualmente mais atraente e de melhor acesso, foi criada uma classe do tipo KNN, que contém todas as funções utilizadas no mesmo. Dessa forma, o usuário apenas chamará o método adequado para realizar suas previsões e calcular a acurácia."
   ]
  },
  {
   "cell_type": "code",
   "execution_count": 33,
   "metadata": {},
   "outputs": [],
   "source": [
    "class KNN :\n",
    "    def __init__(self,k):\n",
    "        self.k = k\n",
    "        \n",
    "\n",
    "    def dist_euclideana(self,registro1, registro2, length):\n",
    "            distancia = 0\n",
    "            for i in range(length):\n",
    "                distancia += (registro1[i] - registro2[i])**2\n",
    "            return math.sqrt(distancia) \n",
    "\n",
    "            \n",
    "    def knn(self,registro_teste, base_treinamento, k):\n",
    "        distancias = []\n",
    "        length = len(registro_teste) - 1 \n",
    "\n",
    "        for i in range(len(base_treinamento)):\n",
    "            distancia = self.dist_euclideana(registro_teste,base_treinamento[i], length)\n",
    "            distancias.append((distancia,base_treinamento[i])) \n",
    "        distancias.sort()\n",
    "        \n",
    "        vizinhos = []\n",
    "        for j in range(k):\n",
    "            vizinhos.append(distancias[j][1]) \n",
    "    \n",
    "        return vizinhos \n",
    "    \n",
    "\n",
    "    def resposta(self,vizinhos):\n",
    "        votos = {}\n",
    "        for i in range(len(vizinhos)):\n",
    "            resposta = vizinhos [i][-1] \n",
    "            if resposta in votos:\n",
    "                votos[resposta] +=1 \n",
    "            else:\n",
    "                votos[resposta] = 1\n",
    "        votos_ordenados = sorted(votos.items(), key=lambda x:x[1], reverse = True) \n",
    "        \n",
    "        return votos_ordenados[0][0]\n",
    "    \n",
    "   \n",
    "    def predict(self, base_treinamento, base_teste):\n",
    "        previsoes= []\n",
    "        for i in range(len(base_teste)):\n",
    "            vizinhos = self.knn(base_teste[i], base_treinamento, self.k)\n",
    "            resultados = self.resposta(vizinhos)\n",
    "            previsoes.append(resultados)\n",
    "        \n",
    "        return previsoes\n",
    "    \n",
    "    def acuracia(self,base_teste, previsoes):\n",
    "        corretos = 0\n",
    "        for i in range(len(base_teste)):\n",
    "    \n",
    "            if (base_teste[i][-1] == previsoes[i]):\n",
    "                corretos +=1\n",
    "        porcentagem = (corretos /float( len(base_teste)))\n",
    "    \n",
    "        return round(porcentagem,2)\n",
    "    \n",
    "    \n",
    "    def resultados(base_treinamento, base_teste, previsoes):\n",
    "        total = len(base_treinamento) + len(base_teste)\n",
    "        acertos = round(len(base_teste) * acuracia)\n",
    "        erros = len(base_teste) - acertos\n",
    "        print('Total de registros:', total)\n",
    "        print('Tamanho da base de teste:', len(base_teste))\n",
    "        print()\n",
    "        for i in range(len(base_teste)):\n",
    "            print('Registro [%i]:' %i, '\\t classe real:', base_teste[i][-1], '\\t classe prevista:', previsoes[i])  \n",
    "        print()\n",
    "        print('Acurácia do modelo: %.2f'% (acuracia * 100),'%')        \n",
    "        print('Total de acertos = ', acertos )\n",
    "        print('Total de erros = ', erros )\n",
    "        print()      "
   ]
  },
  {
   "cell_type": "markdown",
   "metadata": {},
   "source": [
    "## 5. Resultados e avaliação do modelo"
   ]
  },
  {
   "cell_type": "markdown",
   "metadata": {},
   "source": [
    "Para avaliação do modelo, são selecionados, utilizando a função de geração de bases, 30 registros para compor a base de teste. É considerado também que o pré-processamento, a classe KNN e a função de geração de bases já foram executados anteriormente."
   ]
  },
  {
   "cell_type": "code",
   "execution_count": 34,
   "metadata": {},
   "outputs": [],
   "source": [
    "import math \n",
    "import random"
   ]
  },
  {
   "cell_type": "code",
   "execution_count": 35,
   "metadata": {},
   "outputs": [],
   "source": [
    "classificador = KNN(5) # Instanciando o KNN com K = 5"
   ]
  },
  {
   "cell_type": "code",
   "execution_count": 36,
   "metadata": {},
   "outputs": [],
   "source": [
    "base_treinamento_n, base_teste_n = gerador_bases(registros, 30) # Geração das bases de treinamento e de teste (com 30 registros)"
   ]
  },
  {
   "cell_type": "code",
   "execution_count": 37,
   "metadata": {},
   "outputs": [],
   "source": [
    "previsoes = classificador.predict(base_treinamento_n, base_teste_n) # Gerando previsões "
   ]
  },
  {
   "cell_type": "code",
   "execution_count": 38,
   "metadata": {},
   "outputs": [],
   "source": [
    "acuracia = classificador.acuracia(base_teste_n, previsoes) # Obtendo acurácia através das previsões"
   ]
  },
  {
   "cell_type": "markdown",
   "metadata": {},
   "source": [
    "Além disso, é possível visualizar um resumo dos resultados para o modelo:"
   ]
  },
  {
   "cell_type": "code",
   "execution_count": 39,
   "metadata": {},
   "outputs": [
    {
     "name": "stdout",
     "output_type": "stream",
     "text": [
      "Total de registros: 150\n",
      "Tamanho da base de teste: 30\n",
      "\n",
      "Registro [0]: \t classe real: Iris-virginica \t classe prevista: Iris-virginica\n",
      "Registro [1]: \t classe real: Iris-setosa \t classe prevista: Iris-setosa\n",
      "Registro [2]: \t classe real: Iris-setosa \t classe prevista: Iris-setosa\n",
      "Registro [3]: \t classe real: Iris-versicolor \t classe prevista: Iris-versicolor\n",
      "Registro [4]: \t classe real: Iris-setosa \t classe prevista: Iris-setosa\n",
      "Registro [5]: \t classe real: Iris-setosa \t classe prevista: Iris-setosa\n",
      "Registro [6]: \t classe real: Iris-setosa \t classe prevista: Iris-setosa\n",
      "Registro [7]: \t classe real: Iris-versicolor \t classe prevista: Iris-versicolor\n",
      "Registro [8]: \t classe real: Iris-virginica \t classe prevista: Iris-virginica\n",
      "Registro [9]: \t classe real: Iris-versicolor \t classe prevista: Iris-versicolor\n",
      "Registro [10]: \t classe real: Iris-versicolor \t classe prevista: Iris-versicolor\n",
      "Registro [11]: \t classe real: Iris-versicolor \t classe prevista: Iris-versicolor\n",
      "Registro [12]: \t classe real: Iris-virginica \t classe prevista: Iris-virginica\n",
      "Registro [13]: \t classe real: Iris-virginica \t classe prevista: Iris-virginica\n",
      "Registro [14]: \t classe real: Iris-versicolor \t classe prevista: Iris-versicolor\n",
      "Registro [15]: \t classe real: Iris-setosa \t classe prevista: Iris-setosa\n",
      "Registro [16]: \t classe real: Iris-versicolor \t classe prevista: Iris-versicolor\n",
      "Registro [17]: \t classe real: Iris-virginica \t classe prevista: Iris-virginica\n",
      "Registro [18]: \t classe real: Iris-setosa \t classe prevista: Iris-setosa\n",
      "Registro [19]: \t classe real: Iris-setosa \t classe prevista: Iris-setosa\n",
      "Registro [20]: \t classe real: Iris-virginica \t classe prevista: Iris-virginica\n",
      "Registro [21]: \t classe real: Iris-setosa \t classe prevista: Iris-setosa\n",
      "Registro [22]: \t classe real: Iris-setosa \t classe prevista: Iris-setosa\n",
      "Registro [23]: \t classe real: Iris-setosa \t classe prevista: Iris-setosa\n",
      "Registro [24]: \t classe real: Iris-versicolor \t classe prevista: Iris-versicolor\n",
      "Registro [25]: \t classe real: Iris-setosa \t classe prevista: Iris-setosa\n",
      "Registro [26]: \t classe real: Iris-versicolor \t classe prevista: Iris-virginica\n",
      "Registro [27]: \t classe real: Iris-virginica \t classe prevista: Iris-virginica\n",
      "Registro [28]: \t classe real: Iris-setosa \t classe prevista: Iris-setosa\n",
      "Registro [29]: \t classe real: Iris-setosa \t classe prevista: Iris-setosa\n",
      "\n",
      "Acurácia do modelo: 97.00 %\n",
      "Total de acertos =  29\n",
      "Total de erros =  1\n",
      "\n"
     ]
    }
   ],
   "source": [
    "KNN.resultados(base_treinamento_n, base_teste_n, previsoes)"
   ]
  },
  {
   "cell_type": "markdown",
   "metadata": {},
   "source": [
    "### 5.1. Média das acurácias"
   ]
  },
  {
   "cell_type": "markdown",
   "metadata": {},
   "source": [
    "Como não foi definida nenhuma *seed* para o *random*, os resultados podem variar de forma considerável a cada iteração. Para minimizar esse problema e adicionar mais confiabilidade ao modelo, foi implementada uma função que realiza n_iterações para bases de testes diferentes e retorna a média delas. Dessa forma, o usuário tem mais noção da real performance do mesmo."
   ]
  },
  {
   "cell_type": "code",
   "execution_count": 40,
   "metadata": {},
   "outputs": [],
   "source": [
    "def acuraciaMedia(estimator, dataset, n_iteracoes, n_teste, k):\n",
    "    acuracia_geral = []\n",
    "    previsao_atual = 0\n",
    "    acuracia_media = 0\n",
    "    acuracia_soma = 0\n",
    "    acuracia_atual = 0\n",
    "    for i in range(n_iteracoes):\n",
    "        base_treinamento_n, base_teste_n = gerador_bases(dataset, n_teste)\n",
    "        previsao_atual = estimator.predict(base_treinamento_n, base_teste_n)  \n",
    "        acuracia_atual = estimator.acuracia(base_teste_n, previsao_atual)\n",
    "        acuracia_geral.append(acuracia_atual)\n",
    "        \n",
    "        acuracia_soma += acuracia_geral[i]\n",
    "    acuracia_media = acuracia_soma / n_iteracoes\n",
    "    \n",
    "    return round(acuracia_media, 4)"
   ]
  },
  {
   "cell_type": "code",
   "execution_count": 41,
   "metadata": {
    "scrolled": false
   },
   "outputs": [
    {
     "data": {
      "text/plain": [
       "0.9654"
      ]
     },
     "execution_count": 41,
     "metadata": {},
     "output_type": "execute_result"
    }
   ],
   "source": [
    "acuracia_media = acuraciaMedia(classificador, registros, 100, 30, 3) # 100 iterações para uma base de teste de 30 registros com K = 3\n",
    "acuracia_media"
   ]
  },
  {
   "cell_type": "markdown",
   "metadata": {},
   "source": [
    "### Conclusão\n",
    "O KNN é um algoritmo de classificação que classifica um ou vários registros de acordo com a *label* dos seus K vizinhos mais próximos. O objetivo desse trabalho foi desenvolver tal algoritmo sem a ajuda de bibliotecas que auxiliassem a manipulação de dados ou com o método pronto. Esse objetivo foi alcançado visto que o KNN foi criado e obteve resultados satisfatórios, com mais de 95% de acurácia para 100 iterações, e de interface boa, orientado para objetos. Uma possível melhoria para o trabalho seria salvar a classe KNN em um arquivo e criar classes para as métricas e função de geração de bases, gerando, assim, uma biblioteca completa e enxuta."
   ]
  }
 ],
 "metadata": {
  "kernelspec": {
   "display_name": "Python 3",
   "language": "python",
   "name": "python3"
  },
  "language_info": {
   "codemirror_mode": {
    "name": "ipython",
    "version": 3
   },
   "file_extension": ".py",
   "mimetype": "text/x-python",
   "name": "python",
   "nbconvert_exporter": "python",
   "pygments_lexer": "ipython3",
   "version": "3.6.7"
  }
 },
 "nbformat": 4,
 "nbformat_minor": 2
}
